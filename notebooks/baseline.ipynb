{
 "cells": [
  {
   "cell_type": "code",
   "execution_count": 1,
   "metadata": {},
   "outputs": [],
   "source": [
    "SCRIPT_DIR = os.path.dirname('../src/')\n",
    "sys.path.append(os.path.dirname(SCRIPT_DIR))"
   ]
  },
  {
   "cell_type": "code",
   "execution_count": 2,
   "metadata": {},
   "outputs": [],
   "source": [
    "import warnings\n",
    "import numpy as np\n",
    "import pandas as pd \n",
    "\n",
    "from sklearn.preprocessing import LabelEncoder, MinMaxScaler\n",
    "\n",
    "from sklearn.neighbors import KNeighborsClassifier\n",
    "from sklearn.tree import DecisionTreeClassifier\n",
    "from sklearn.ensemble import RandomForestClassifier\n",
    "from xgboost import XGBClassifier\n",
    "from lightgbm import LGBMClassifier\n",
    "from sklearn.neural_network import MLPClassifier\n",
    "\n",
    "from sklearn.model_selection import train_test_split\n",
    "from sklearn.metrics import accuracy_score\n",
    "\n",
    "from src.wrapped import Wrapped"
   ]
  },
  {
   "cell_type": "code",
   "execution_count": 25,
   "metadata": {},
   "outputs": [],
   "source": [
    "warnings.filterwarnings(\"ignore\")\n",
    "\n",
    "wp = Wrapped(\n",
    "    '../data/row/',\n",
    "    '../data/processed/',\n",
    "    '../data/files/'\n",
    ")"
   ]
  },
  {
   "cell_type": "markdown",
   "metadata": {},
   "source": [
    "# Importando dados para treinamento"
   ]
  },
  {
   "cell_type": "code",
   "execution_count": 26,
   "metadata": {},
   "outputs": [
    {
     "data": {
      "text/html": [
       "<div>\n",
       "<style scoped>\n",
       "    .dataframe tbody tr th:only-of-type {\n",
       "        vertical-align: middle;\n",
       "    }\n",
       "\n",
       "    .dataframe tbody tr th {\n",
       "        vertical-align: top;\n",
       "    }\n",
       "\n",
       "    .dataframe thead th {\n",
       "        text-align: right;\n",
       "    }\n",
       "</style>\n",
       "<table border=\"1\" class=\"dataframe\">\n",
       "  <thead>\n",
       "    <tr style=\"text-align: right;\">\n",
       "      <th></th>\n",
       "      <th>instrumento</th>\n",
       "      <th>file_name</th>\n",
       "      <th>chroma1</th>\n",
       "      <th>chroma2</th>\n",
       "      <th>chroma3</th>\n",
       "      <th>chroma4</th>\n",
       "      <th>chroma5</th>\n",
       "      <th>chroma6</th>\n",
       "      <th>chroma7</th>\n",
       "      <th>chroma8</th>\n",
       "      <th>...</th>\n",
       "      <th>mfcc10</th>\n",
       "      <th>mfcc11</th>\n",
       "      <th>mfcc12</th>\n",
       "      <th>mfcc13</th>\n",
       "      <th>mfcc14</th>\n",
       "      <th>mfcc15</th>\n",
       "      <th>mfcc16</th>\n",
       "      <th>mfcc17</th>\n",
       "      <th>mfcc18</th>\n",
       "      <th>mfcc19</th>\n",
       "    </tr>\n",
       "  </thead>\n",
       "  <tbody>\n",
       "    <tr>\n",
       "      <th>0</th>\n",
       "      <td>accordion</td>\n",
       "      <td>000139_119040.ogg</td>\n",
       "      <td>0.513887</td>\n",
       "      <td>0.581963</td>\n",
       "      <td>0.434641</td>\n",
       "      <td>0.293949</td>\n",
       "      <td>0.317826</td>\n",
       "      <td>0.271148</td>\n",
       "      <td>0.548258</td>\n",
       "      <td>0.660767</td>\n",
       "      <td>...</td>\n",
       "      <td>-5.140857</td>\n",
       "      <td>10.352439</td>\n",
       "      <td>-1.830431</td>\n",
       "      <td>0.709631</td>\n",
       "      <td>-1.533663</td>\n",
       "      <td>3.445959</td>\n",
       "      <td>1.397324</td>\n",
       "      <td>7.555676</td>\n",
       "      <td>1.468902</td>\n",
       "      <td>10.498053</td>\n",
       "    </tr>\n",
       "    <tr>\n",
       "      <th>1</th>\n",
       "      <td>accordion</td>\n",
       "      <td>000145_172800.ogg</td>\n",
       "      <td>0.175587</td>\n",
       "      <td>0.429345</td>\n",
       "      <td>0.840043</td>\n",
       "      <td>0.384524</td>\n",
       "      <td>0.282545</td>\n",
       "      <td>0.346341</td>\n",
       "      <td>0.482365</td>\n",
       "      <td>0.321750</td>\n",
       "      <td>...</td>\n",
       "      <td>-1.211487</td>\n",
       "      <td>9.595064</td>\n",
       "      <td>-0.532024</td>\n",
       "      <td>9.224909</td>\n",
       "      <td>-1.727268</td>\n",
       "      <td>0.398663</td>\n",
       "      <td>-5.348599</td>\n",
       "      <td>5.749533</td>\n",
       "      <td>-2.110756</td>\n",
       "      <td>-3.542143</td>\n",
       "    </tr>\n",
       "    <tr>\n",
       "      <th>2</th>\n",
       "      <td>accordion</td>\n",
       "      <td>000201_168960.ogg</td>\n",
       "      <td>0.453814</td>\n",
       "      <td>0.219808</td>\n",
       "      <td>0.228484</td>\n",
       "      <td>0.446050</td>\n",
       "      <td>0.178916</td>\n",
       "      <td>0.250981</td>\n",
       "      <td>0.327460</td>\n",
       "      <td>0.333150</td>\n",
       "      <td>...</td>\n",
       "      <td>-16.190577</td>\n",
       "      <td>1.937491</td>\n",
       "      <td>-9.938826</td>\n",
       "      <td>-7.672649</td>\n",
       "      <td>-12.759929</td>\n",
       "      <td>-9.303410</td>\n",
       "      <td>-9.951704</td>\n",
       "      <td>0.198734</td>\n",
       "      <td>-4.846475</td>\n",
       "      <td>7.278521</td>\n",
       "    </tr>\n",
       "    <tr>\n",
       "      <th>3</th>\n",
       "      <td>accordion</td>\n",
       "      <td>000212_211200.ogg</td>\n",
       "      <td>0.209729</td>\n",
       "      <td>0.338755</td>\n",
       "      <td>0.660264</td>\n",
       "      <td>0.256625</td>\n",
       "      <td>0.275209</td>\n",
       "      <td>0.180417</td>\n",
       "      <td>0.399448</td>\n",
       "      <td>0.381560</td>\n",
       "      <td>...</td>\n",
       "      <td>-0.523156</td>\n",
       "      <td>1.412061</td>\n",
       "      <td>-3.391795</td>\n",
       "      <td>1.884947</td>\n",
       "      <td>-4.441119</td>\n",
       "      <td>6.623763</td>\n",
       "      <td>2.606730</td>\n",
       "      <td>7.237651</td>\n",
       "      <td>0.069198</td>\n",
       "      <td>1.122705</td>\n",
       "    </tr>\n",
       "    <tr>\n",
       "      <th>4</th>\n",
       "      <td>accordion</td>\n",
       "      <td>000640_49920.ogg</td>\n",
       "      <td>0.484400</td>\n",
       "      <td>0.334572</td>\n",
       "      <td>0.441629</td>\n",
       "      <td>0.679485</td>\n",
       "      <td>0.382958</td>\n",
       "      <td>0.326033</td>\n",
       "      <td>0.205775</td>\n",
       "      <td>0.309727</td>\n",
       "      <td>...</td>\n",
       "      <td>-8.647794</td>\n",
       "      <td>3.284153</td>\n",
       "      <td>5.265181</td>\n",
       "      <td>10.642460</td>\n",
       "      <td>3.046261</td>\n",
       "      <td>-3.864471</td>\n",
       "      <td>-9.482952</td>\n",
       "      <td>-0.787216</td>\n",
       "      <td>-1.997669</td>\n",
       "      <td>-0.640013</td>\n",
       "    </tr>\n",
       "    <tr>\n",
       "      <th>...</th>\n",
       "      <td>...</td>\n",
       "      <td>...</td>\n",
       "      <td>...</td>\n",
       "      <td>...</td>\n",
       "      <td>...</td>\n",
       "      <td>...</td>\n",
       "      <td>...</td>\n",
       "      <td>...</td>\n",
       "      <td>...</td>\n",
       "      <td>...</td>\n",
       "      <td>...</td>\n",
       "      <td>...</td>\n",
       "      <td>...</td>\n",
       "      <td>...</td>\n",
       "      <td>...</td>\n",
       "      <td>...</td>\n",
       "      <td>...</td>\n",
       "      <td>...</td>\n",
       "      <td>...</td>\n",
       "      <td>...</td>\n",
       "      <td>...</td>\n",
       "    </tr>\n",
       "    <tr>\n",
       "      <th>8471</th>\n",
       "      <td>voice</td>\n",
       "      <td>153341_184320.ogg</td>\n",
       "      <td>0.332754</td>\n",
       "      <td>0.359639</td>\n",
       "      <td>0.473210</td>\n",
       "      <td>0.512169</td>\n",
       "      <td>0.607755</td>\n",
       "      <td>0.500391</td>\n",
       "      <td>0.378782</td>\n",
       "      <td>0.420053</td>\n",
       "      <td>...</td>\n",
       "      <td>-4.875653</td>\n",
       "      <td>2.704151</td>\n",
       "      <td>-4.521690</td>\n",
       "      <td>1.879251</td>\n",
       "      <td>-6.319352</td>\n",
       "      <td>1.512789</td>\n",
       "      <td>-7.151809</td>\n",
       "      <td>-1.834733</td>\n",
       "      <td>-7.714043</td>\n",
       "      <td>-2.913627</td>\n",
       "    </tr>\n",
       "    <tr>\n",
       "      <th>8472</th>\n",
       "      <td>voice</td>\n",
       "      <td>153412_134400.ogg</td>\n",
       "      <td>0.161793</td>\n",
       "      <td>0.190661</td>\n",
       "      <td>0.249882</td>\n",
       "      <td>0.378161</td>\n",
       "      <td>0.461520</td>\n",
       "      <td>0.332309</td>\n",
       "      <td>0.294171</td>\n",
       "      <td>0.251455</td>\n",
       "      <td>...</td>\n",
       "      <td>-1.182519</td>\n",
       "      <td>-3.178636</td>\n",
       "      <td>-11.015512</td>\n",
       "      <td>-7.479657</td>\n",
       "      <td>-9.194380</td>\n",
       "      <td>-4.153149</td>\n",
       "      <td>-8.789742</td>\n",
       "      <td>4.701506</td>\n",
       "      <td>4.045784</td>\n",
       "      <td>6.724212</td>\n",
       "    </tr>\n",
       "    <tr>\n",
       "      <th>8473</th>\n",
       "      <td>voice</td>\n",
       "      <td>153478_30720.ogg</td>\n",
       "      <td>0.589552</td>\n",
       "      <td>0.309548</td>\n",
       "      <td>0.187583</td>\n",
       "      <td>0.169132</td>\n",
       "      <td>0.240637</td>\n",
       "      <td>0.332375</td>\n",
       "      <td>0.333517</td>\n",
       "      <td>0.585136</td>\n",
       "      <td>...</td>\n",
       "      <td>-16.827093</td>\n",
       "      <td>0.815251</td>\n",
       "      <td>-10.296307</td>\n",
       "      <td>-8.400555</td>\n",
       "      <td>-11.928357</td>\n",
       "      <td>-14.542219</td>\n",
       "      <td>-5.466450</td>\n",
       "      <td>-4.281743</td>\n",
       "      <td>-7.056125</td>\n",
       "      <td>6.623515</td>\n",
       "    </tr>\n",
       "    <tr>\n",
       "      <th>8474</th>\n",
       "      <td>voice</td>\n",
       "      <td>153986_203520.ogg</td>\n",
       "      <td>0.615495</td>\n",
       "      <td>0.541314</td>\n",
       "      <td>0.467334</td>\n",
       "      <td>0.611199</td>\n",
       "      <td>0.791296</td>\n",
       "      <td>0.678383</td>\n",
       "      <td>0.508162</td>\n",
       "      <td>0.543337</td>\n",
       "      <td>...</td>\n",
       "      <td>0.068194</td>\n",
       "      <td>4.746015</td>\n",
       "      <td>-2.617890</td>\n",
       "      <td>2.208030</td>\n",
       "      <td>-0.682007</td>\n",
       "      <td>2.619602</td>\n",
       "      <td>-1.200114</td>\n",
       "      <td>5.823110</td>\n",
       "      <td>2.130090</td>\n",
       "      <td>8.821922</td>\n",
       "    </tr>\n",
       "    <tr>\n",
       "      <th>8475</th>\n",
       "      <td>voice</td>\n",
       "      <td>154172_299520.ogg</td>\n",
       "      <td>0.521300</td>\n",
       "      <td>0.480413</td>\n",
       "      <td>0.476578</td>\n",
       "      <td>0.401069</td>\n",
       "      <td>0.410142</td>\n",
       "      <td>0.557736</td>\n",
       "      <td>0.489720</td>\n",
       "      <td>0.556477</td>\n",
       "      <td>...</td>\n",
       "      <td>0.731709</td>\n",
       "      <td>4.723079</td>\n",
       "      <td>-10.582443</td>\n",
       "      <td>1.956028</td>\n",
       "      <td>-5.492694</td>\n",
       "      <td>-2.103657</td>\n",
       "      <td>-0.819125</td>\n",
       "      <td>2.082294</td>\n",
       "      <td>-7.077897</td>\n",
       "      <td>7.445070</td>\n",
       "    </tr>\n",
       "  </tbody>\n",
       "</table>\n",
       "<p>8476 rows × 53 columns</p>\n",
       "</div>"
      ],
      "text/plain": [
       "     instrumento          file_name   chroma1   chroma2   chroma3   chroma4  \\\n",
       "0      accordion  000139_119040.ogg  0.513887  0.581963  0.434641  0.293949   \n",
       "1      accordion  000145_172800.ogg  0.175587  0.429345  0.840043  0.384524   \n",
       "2      accordion  000201_168960.ogg  0.453814  0.219808  0.228484  0.446050   \n",
       "3      accordion  000212_211200.ogg  0.209729  0.338755  0.660264  0.256625   \n",
       "4      accordion   000640_49920.ogg  0.484400  0.334572  0.441629  0.679485   \n",
       "...          ...                ...       ...       ...       ...       ...   \n",
       "8471       voice  153341_184320.ogg  0.332754  0.359639  0.473210  0.512169   \n",
       "8472       voice  153412_134400.ogg  0.161793  0.190661  0.249882  0.378161   \n",
       "8473       voice   153478_30720.ogg  0.589552  0.309548  0.187583  0.169132   \n",
       "8474       voice  153986_203520.ogg  0.615495  0.541314  0.467334  0.611199   \n",
       "8475       voice  154172_299520.ogg  0.521300  0.480413  0.476578  0.401069   \n",
       "\n",
       "       chroma5   chroma6   chroma7   chroma8  ...     mfcc10     mfcc11  \\\n",
       "0     0.317826  0.271148  0.548258  0.660767  ...  -5.140857  10.352439   \n",
       "1     0.282545  0.346341  0.482365  0.321750  ...  -1.211487   9.595064   \n",
       "2     0.178916  0.250981  0.327460  0.333150  ... -16.190577   1.937491   \n",
       "3     0.275209  0.180417  0.399448  0.381560  ...  -0.523156   1.412061   \n",
       "4     0.382958  0.326033  0.205775  0.309727  ...  -8.647794   3.284153   \n",
       "...        ...       ...       ...       ...  ...        ...        ...   \n",
       "8471  0.607755  0.500391  0.378782  0.420053  ...  -4.875653   2.704151   \n",
       "8472  0.461520  0.332309  0.294171  0.251455  ...  -1.182519  -3.178636   \n",
       "8473  0.240637  0.332375  0.333517  0.585136  ... -16.827093   0.815251   \n",
       "8474  0.791296  0.678383  0.508162  0.543337  ...   0.068194   4.746015   \n",
       "8475  0.410142  0.557736  0.489720  0.556477  ...   0.731709   4.723079   \n",
       "\n",
       "         mfcc12     mfcc13     mfcc14     mfcc15    mfcc16    mfcc17  \\\n",
       "0     -1.830431   0.709631  -1.533663   3.445959  1.397324  7.555676   \n",
       "1     -0.532024   9.224909  -1.727268   0.398663 -5.348599  5.749533   \n",
       "2     -9.938826  -7.672649 -12.759929  -9.303410 -9.951704  0.198734   \n",
       "3     -3.391795   1.884947  -4.441119   6.623763  2.606730  7.237651   \n",
       "4      5.265181  10.642460   3.046261  -3.864471 -9.482952 -0.787216   \n",
       "...         ...        ...        ...        ...       ...       ...   \n",
       "8471  -4.521690   1.879251  -6.319352   1.512789 -7.151809 -1.834733   \n",
       "8472 -11.015512  -7.479657  -9.194380  -4.153149 -8.789742  4.701506   \n",
       "8473 -10.296307  -8.400555 -11.928357 -14.542219 -5.466450 -4.281743   \n",
       "8474  -2.617890   2.208030  -0.682007   2.619602 -1.200114  5.823110   \n",
       "8475 -10.582443   1.956028  -5.492694  -2.103657 -0.819125  2.082294   \n",
       "\n",
       "        mfcc18     mfcc19  \n",
       "0     1.468902  10.498053  \n",
       "1    -2.110756  -3.542143  \n",
       "2    -4.846475   7.278521  \n",
       "3     0.069198   1.122705  \n",
       "4    -1.997669  -0.640013  \n",
       "...        ...        ...  \n",
       "8471 -7.714043  -2.913627  \n",
       "8472  4.045784   6.724212  \n",
       "8473 -7.056125   6.623515  \n",
       "8474  2.130090   8.821922  \n",
       "8475 -7.077897   7.445070  \n",
       "\n",
       "[8476 rows x 53 columns]"
      ]
     },
     "execution_count": 26,
     "metadata": {},
     "output_type": "execute_result"
    }
   ],
   "source": [
    "df = wp.load_data('df_instrumentos')\n",
    "df"
   ]
  },
  {
   "cell_type": "markdown",
   "metadata": {},
   "source": [
    "- Algumas informações"
   ]
  },
  {
   "cell_type": "code",
   "execution_count": 27,
   "metadata": {},
   "outputs": [
    {
     "name": "stdout",
     "output_type": "stream",
     "text": [
      "Dimensões do dataframe (8476, 53)\n",
      "Total de instrumentos na base original: 20\n"
     ]
    },
    {
     "data": {
      "text/plain": [
       "mallet_percussion    719\n",
       "flute                654\n",
       "piano                628\n",
       "organ                611\n",
       "saxophone            539\n",
       "accordion            511\n",
       "bass                 508\n",
       "cymbals              503\n",
       "cello                481\n",
       "violin               469\n",
       "voice                452\n",
       "ukulele              389\n",
       "banjo                375\n",
       "synthesizer          375\n",
       "guitar               347\n",
       "drums                336\n",
       "trombone             196\n",
       "mandolin             163\n",
       "clarinet             152\n",
       "trumpet               68\n",
       "Name: instrumento, dtype: int64"
      ]
     },
     "execution_count": 27,
     "metadata": {},
     "output_type": "execute_result"
    }
   ],
   "source": [
    "print('Dimensões do dataframe', df.shape)\n",
    "print('Total de instrumentos na base original:', len(df.instrumento.unique()))\n",
    "df.instrumento.value_counts()"
   ]
  },
  {
   "cell_type": "markdown",
   "metadata": {},
   "source": [
    "# Preprocessamento"
   ]
  },
  {
   "cell_type": "code",
   "execution_count": 28,
   "metadata": {},
   "outputs": [],
   "source": [
    "le = LabelEncoder()\n",
    "\n",
    "df['labels'] = le.fit_transform(df.instrumento)"
   ]
  },
  {
   "cell_type": "markdown",
   "metadata": {},
   "source": [
    "# Treinando modelos"
   ]
  },
  {
   "cell_type": "code",
   "execution_count": 29,
   "metadata": {},
   "outputs": [],
   "source": [
    "X = df.drop(columns=['labels', 'file_name'])\n",
    "y = df['labels']"
   ]
  },
  {
   "cell_type": "code",
   "execution_count": 30,
   "metadata": {},
   "outputs": [],
   "source": [
    "X_train, X_test, y_train, y_test = train_test_split(X, y, test_size = 0.3, random_state = 42)"
   ]
  },
  {
   "cell_type": "code",
   "execution_count": 31,
   "metadata": {},
   "outputs": [],
   "source": [
    "instrumentos_test = X_test['instrumento']\n",
    "proporcao_dados_instrumentos_treino = X_train.instrumento.value_counts()\n",
    "\n",
    "X_train = X_train.drop(columns=['instrumento'])\n",
    "X_test = X_test.drop(columns=['instrumento'])"
   ]
  },
  {
   "cell_type": "markdown",
   "metadata": {},
   "source": [
    "- Baseline"
   ]
  },
  {
   "cell_type": "code",
   "execution_count": 32,
   "metadata": {},
   "outputs": [],
   "source": [
    "models = np.array([KNeighborsClassifier(),DecisionTreeClassifier(), RandomForestClassifier(), LGBMClassifier(),MLPClassifier()])"
   ]
  },
  {
   "cell_type": "code",
   "execution_count": 33,
   "metadata": {},
   "outputs": [
    {
     "name": "stdout",
     "output_type": "stream",
     "text": [
      "Acuracia KNeighborsClassifier(): 15.0%\n",
      "Acuracia DecisionTreeClassifier(): 17.0%\n",
      "Acuracia RandomForestClassifier(): 33.0%\n",
      "Acuracia LGBMClassifier(): 35.0%\n",
      "Acuracia MLPClassifier(): 16.0%\n"
     ]
    }
   ],
   "source": [
    "for model in models:\n",
    "    model.fit(X_train, y_train)\n",
    "    predict = model.predict(X_test)\n",
    "    print(f'Acuracia {model}: {accuracy_score(y_test, predict).round(2) * 100}%')\n",
    "    "
   ]
  },
  {
   "cell_type": "markdown",
   "metadata": {},
   "source": [
    "# Vamos analisar esses resultados"
   ]
  },
  {
   "cell_type": "code",
   "execution_count": 34,
   "metadata": {},
   "outputs": [
    {
     "name": "stdout",
     "output_type": "stream",
     "text": [
      "Acuracia Random Forest: 34.0%\n"
     ]
    }
   ],
   "source": [
    "model = RandomForestClassifier()\n",
    "model.fit(X_train, y_train)\n",
    "predict = model.predict(X_test)\n",
    "print(f'Acuracia Random Forest: {accuracy_score(y_test, predict).round(2) * 100}%')"
   ]
  },
  {
   "cell_type": "code",
   "execution_count": 35,
   "metadata": {},
   "outputs": [],
   "source": [
    "# criar um dataframe de gabarito para auxiliar nas nossas analises\n",
    "gabarito = X_test\n",
    "gabarito['labels'] = y_test\n",
    "gabarito['instrumentos'] = instrumentos_test\n",
    "\n",
    "# filtrando os acertos\n",
    "acertos = gabarito[predict == gabarito.labels]\n",
    "\n",
    "# filtrando os erros\n",
    "erros = gabarito[predict != gabarito.labels]"
   ]
  },
  {
   "cell_type": "markdown",
   "metadata": {},
   "source": [
    "- Acerto total"
   ]
  },
  {
   "cell_type": "code",
   "execution_count": 36,
   "metadata": {},
   "outputs": [
    {
     "name": "stdout",
     "output_type": "stream",
     "text": [
      "Total de acertos:  858\n"
     ]
    }
   ],
   "source": [
    "print('Total de acertos: ', acertos.shape[0])"
   ]
  },
  {
   "cell_type": "markdown",
   "metadata": {},
   "source": [
    "- Total de instrumentos indentificados"
   ]
  },
  {
   "cell_type": "code",
   "execution_count": 37,
   "metadata": {},
   "outputs": [
    {
     "data": {
      "text/plain": [
       "18"
      ]
     },
     "execution_count": 37,
     "metadata": {},
     "output_type": "execute_result"
    }
   ],
   "source": [
    "len(acertos.instrumentos.unique())"
   ]
  },
  {
   "cell_type": "markdown",
   "metadata": {},
   "source": [
    "- Instrumentos não indentificados"
   ]
  },
  {
   "cell_type": "markdown",
   "metadata": {},
   "source": [
    "mandolin e clarinete"
   ]
  },
  {
   "cell_type": "markdown",
   "metadata": {},
   "source": [
    "- Proporção de dados por instrumentos usado no treino"
   ]
  },
  {
   "cell_type": "code",
   "execution_count": 38,
   "metadata": {},
   "outputs": [
    {
     "data": {
      "text/plain": [
       "mallet_percussion    491\n",
       "piano                449\n",
       "flute                447\n",
       "organ                437\n",
       "saxophone            383\n",
       "bass                 364\n",
       "cymbals              360\n",
       "accordion            335\n",
       "violin               334\n",
       "cello                316\n",
       "voice                309\n",
       "guitar               268\n",
       "ukulele              261\n",
       "banjo                258\n",
       "synthesizer          256\n",
       "drums                243\n",
       "trombone             145\n",
       "mandolin             117\n",
       "clarinet             108\n",
       "trumpet               52\n",
       "Name: instrumento, dtype: int64"
      ]
     },
     "execution_count": 38,
     "metadata": {},
     "output_type": "execute_result"
    }
   ],
   "source": [
    "proporcao_dados_instrumentos_treino"
   ]
  },
  {
   "cell_type": "markdown",
   "metadata": {},
   "source": [
    "- Proporção de instrumentos no Test"
   ]
  },
  {
   "cell_type": "code",
   "execution_count": 39,
   "metadata": {},
   "outputs": [
    {
     "data": {
      "text/plain": [
       "mallet_percussion    228\n",
       "flute                207\n",
       "piano                179\n",
       "accordion            176\n",
       "organ                174\n",
       "cello                165\n",
       "saxophone            156\n",
       "bass                 144\n",
       "voice                143\n",
       "cymbals              143\n",
       "violin               135\n",
       "ukulele              128\n",
       "synthesizer          119\n",
       "banjo                117\n",
       "drums                 93\n",
       "guitar                79\n",
       "trombone              51\n",
       "mandolin              46\n",
       "clarinet              44\n",
       "trumpet               16\n",
       "Name: instrumentos, dtype: int64"
      ]
     },
     "execution_count": 39,
     "metadata": {},
     "output_type": "execute_result"
    }
   ],
   "source": [
    "gabarito.instrumentos.value_counts()"
   ]
  },
  {
   "cell_type": "markdown",
   "metadata": {},
   "source": [
    "- Proporção de acertos por instrumentos"
   ]
  },
  {
   "cell_type": "code",
   "execution_count": 40,
   "metadata": {},
   "outputs": [
    {
     "data": {
      "text/plain": [
       "piano                117\n",
       "flute                102\n",
       "cymbals               86\n",
       "bass                  76\n",
       "cello                 72\n",
       "saxophone             66\n",
       "accordion             47\n",
       "violin                44\n",
       "organ                 40\n",
       "mallet_percussion     39\n",
       "voice                 38\n",
       "drums                 36\n",
       "ukulele               27\n",
       "banjo                 25\n",
       "guitar                20\n",
       "synthesizer           18\n",
       "trombone               4\n",
       "trumpet                1\n",
       "Name: instrumentos, dtype: int64"
      ]
     },
     "execution_count": 40,
     "metadata": {},
     "output_type": "execute_result"
    }
   ],
   "source": [
    "acertos.instrumentos.value_counts()"
   ]
  },
  {
   "cell_type": "markdown",
   "metadata": {},
   "source": [
    "- Proporção de erros por instrumentos"
   ]
  },
  {
   "cell_type": "code",
   "execution_count": 41,
   "metadata": {},
   "outputs": [
    {
     "data": {
      "text/plain": [
       "mallet_percussion    189\n",
       "organ                134\n",
       "accordion            129\n",
       "voice                105\n",
       "flute                105\n",
       "synthesizer          101\n",
       "ukulele              101\n",
       "cello                 93\n",
       "banjo                 92\n",
       "violin                91\n",
       "saxophone             90\n",
       "bass                  68\n",
       "piano                 62\n",
       "guitar                59\n",
       "cymbals               57\n",
       "drums                 57\n",
       "trombone              47\n",
       "mandolin              46\n",
       "clarinet              44\n",
       "trumpet               15\n",
       "Name: instrumentos, dtype: int64"
      ]
     },
     "execution_count": 41,
     "metadata": {},
     "output_type": "execute_result"
    }
   ],
   "source": [
    "erros.instrumentos.value_counts()"
   ]
  }
 ],
 "metadata": {
  "kernelspec": {
   "display_name": "Python 3.9.0 ('.venv': poetry)",
   "language": "python",
   "name": "python3"
  },
  "language_info": {
   "codemirror_mode": {
    "name": "ipython",
    "version": 3
   },
   "file_extension": ".py",
   "mimetype": "text/x-python",
   "name": "python",
   "nbconvert_exporter": "python",
   "pygments_lexer": "ipython3",
   "version": "3.9.0"
  },
  "orig_nbformat": 4,
  "vscode": {
   "interpreter": {
    "hash": "375573d77dacab1a606010b2ae5554b2906d1f27f5069f1891d624619a31c775"
   }
  }
 },
 "nbformat": 4,
 "nbformat_minor": 2
}
