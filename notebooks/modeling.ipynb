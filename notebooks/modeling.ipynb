{
 "cells": [
  {
   "cell_type": "code",
   "execution_count": 1,
   "metadata": {},
   "outputs": [],
   "source": [
    "SCRIPT_DIR = os.path.dirname('../src/')\n",
    "sys.path.append(os.path.dirname(SCRIPT_DIR))\n",
    "\n",
    "import warnings\n",
    "warnings.filterwarnings(\"ignore\")\n",
    "\n",
    "import numpy as np\n",
    "import pandas as pd \n",
    "import seaborn as sns\n",
    "import matplotlib.pyplot as plt\n",
    "\n",
    "from sklearn.preprocessing import LabelEncoder\n",
    "from pyod.models.knn import KNN \n",
    "\n",
    "from sklearn.feature_selection import RFECV\n",
    "from sklearn.naive_bayes import GaussianNB\n",
    "from sklearn.neighbors import KNeighborsClassifier\n",
    "from sklearn.tree import DecisionTreeClassifier\n",
    "\n",
    "from sklearn.ensemble import (\n",
    "    RandomForestClassifier,\n",
    "    HistGradientBoostingClassifier)\n",
    "\n",
    "from xgboost import XGBClassifier\n",
    "from lightgbm import LGBMClassifier\n",
    "from catboost import CatBoostClassifier\n",
    "from sklearn.svm import SVC\n",
    "from sklearn.neural_network import MLPClassifier\n",
    "\n",
    "from src.wrapped import Wrapped\n",
    "from src.train import cross_validate_balancead, permutation, combination"
   ]
  },
  {
   "cell_type": "code",
   "execution_count": 2,
   "metadata": {},
   "outputs": [],
   "source": [
    "wp = Wrapped(\n",
    "    '../data/row/',\n",
    "    '../data/processed/',\n",
    "    '../data/files/'\n",
    ")"
   ]
  },
  {
   "cell_type": "markdown",
   "metadata": {},
   "source": [
    "# Importando dados para treinamento"
   ]
  },
  {
   "cell_type": "code",
   "execution_count": 3,
   "metadata": {},
   "outputs": [
    {
     "data": {
      "text/html": [
       "<div>\n",
       "<style scoped>\n",
       "    .dataframe tbody tr th:only-of-type {\n",
       "        vertical-align: middle;\n",
       "    }\n",
       "\n",
       "    .dataframe tbody tr th {\n",
       "        vertical-align: top;\n",
       "    }\n",
       "\n",
       "    .dataframe thead th {\n",
       "        text-align: right;\n",
       "    }\n",
       "</style>\n",
       "<table border=\"1\" class=\"dataframe\">\n",
       "  <thead>\n",
       "    <tr style=\"text-align: right;\">\n",
       "      <th></th>\n",
       "      <th>tonnetz0</th>\n",
       "      <th>tonnetz1</th>\n",
       "      <th>chroma1</th>\n",
       "      <th>chroma2</th>\n",
       "      <th>chroma3</th>\n",
       "      <th>chroma4</th>\n",
       "      <th>chroma5</th>\n",
       "      <th>chroma6</th>\n",
       "      <th>chroma7</th>\n",
       "      <th>mfcc0</th>\n",
       "      <th>...</th>\n",
       "      <th>spectral_band4</th>\n",
       "      <th>spectral_centroid</th>\n",
       "      <th>spectral_onset</th>\n",
       "      <th>spectral_rolloff</th>\n",
       "      <th>spectogram</th>\n",
       "      <th>mel_spectogram</th>\n",
       "      <th>zero_crossing_rate</th>\n",
       "      <th>zero_crossing</th>\n",
       "      <th>instrumento</th>\n",
       "      <th>file_name</th>\n",
       "    </tr>\n",
       "  </thead>\n",
       "  <tbody>\n",
       "    <tr>\n",
       "      <th>0</th>\n",
       "      <td>0.010380</td>\n",
       "      <td>0.038218</td>\n",
       "      <td>0.513887</td>\n",
       "      <td>0.581963</td>\n",
       "      <td>0.434641</td>\n",
       "      <td>0.293949</td>\n",
       "      <td>0.317826</td>\n",
       "      <td>0.271148</td>\n",
       "      <td>0.548258</td>\n",
       "      <td>-24.170067</td>\n",
       "      <td>...</td>\n",
       "      <td>3409.640722</td>\n",
       "      <td>2600.055158</td>\n",
       "      <td>1.098243</td>\n",
       "      <td>5260.821321</td>\n",
       "      <td>-44.640682</td>\n",
       "      <td>-30.202150</td>\n",
       "      <td>0.149672</td>\n",
       "      <td>33095</td>\n",
       "      <td>accordion</td>\n",
       "      <td>000139_119040.ogg</td>\n",
       "    </tr>\n",
       "    <tr>\n",
       "      <th>1</th>\n",
       "      <td>0.084643</td>\n",
       "      <td>-0.035337</td>\n",
       "      <td>0.175587</td>\n",
       "      <td>0.429345</td>\n",
       "      <td>0.840043</td>\n",
       "      <td>0.384524</td>\n",
       "      <td>0.282545</td>\n",
       "      <td>0.346341</td>\n",
       "      <td>0.482365</td>\n",
       "      <td>-90.556145</td>\n",
       "      <td>...</td>\n",
       "      <td>3516.595715</td>\n",
       "      <td>2385.271420</td>\n",
       "      <td>1.360742</td>\n",
       "      <td>5225.124166</td>\n",
       "      <td>-46.575737</td>\n",
       "      <td>-59.323132</td>\n",
       "      <td>0.112181</td>\n",
       "      <td>24785</td>\n",
       "      <td>accordion</td>\n",
       "      <td>000145_172800.ogg</td>\n",
       "    </tr>\n",
       "    <tr>\n",
       "      <th>2</th>\n",
       "      <td>-0.030127</td>\n",
       "      <td>0.082404</td>\n",
       "      <td>0.453814</td>\n",
       "      <td>0.219808</td>\n",
       "      <td>0.228484</td>\n",
       "      <td>0.446050</td>\n",
       "      <td>0.178916</td>\n",
       "      <td>0.250981</td>\n",
       "      <td>0.327460</td>\n",
       "      <td>-106.124260</td>\n",
       "      <td>...</td>\n",
       "      <td>3256.491175</td>\n",
       "      <td>2069.850731</td>\n",
       "      <td>1.343197</td>\n",
       "      <td>4287.155824</td>\n",
       "      <td>-56.276707</td>\n",
       "      <td>-71.512909</td>\n",
       "      <td>0.096007</td>\n",
       "      <td>21230</td>\n",
       "      <td>accordion</td>\n",
       "      <td>000201_168960.ogg</td>\n",
       "    </tr>\n",
       "    <tr>\n",
       "      <th>3</th>\n",
       "      <td>0.157274</td>\n",
       "      <td>-0.066099</td>\n",
       "      <td>0.209729</td>\n",
       "      <td>0.338755</td>\n",
       "      <td>0.660264</td>\n",
       "      <td>0.256625</td>\n",
       "      <td>0.275209</td>\n",
       "      <td>0.180417</td>\n",
       "      <td>0.399448</td>\n",
       "      <td>-66.319801</td>\n",
       "      <td>...</td>\n",
       "      <td>3855.791675</td>\n",
       "      <td>2903.979876</td>\n",
       "      <td>1.218963</td>\n",
       "      <td>6751.133809</td>\n",
       "      <td>-42.723160</td>\n",
       "      <td>-44.649315</td>\n",
       "      <td>0.144010</td>\n",
       "      <td>31836</td>\n",
       "      <td>accordion</td>\n",
       "      <td>000212_211200.ogg</td>\n",
       "    </tr>\n",
       "    <tr>\n",
       "      <th>4</th>\n",
       "      <td>-0.049096</td>\n",
       "      <td>-0.029067</td>\n",
       "      <td>0.484400</td>\n",
       "      <td>0.334572</td>\n",
       "      <td>0.441629</td>\n",
       "      <td>0.679485</td>\n",
       "      <td>0.382958</td>\n",
       "      <td>0.326033</td>\n",
       "      <td>0.205775</td>\n",
       "      <td>-226.263824</td>\n",
       "      <td>...</td>\n",
       "      <td>2883.225952</td>\n",
       "      <td>1251.374287</td>\n",
       "      <td>1.339527</td>\n",
       "      <td>2263.034730</td>\n",
       "      <td>-62.227947</td>\n",
       "      <td>-78.196365</td>\n",
       "      <td>0.059804</td>\n",
       "      <td>13214</td>\n",
       "      <td>accordion</td>\n",
       "      <td>000640_49920.ogg</td>\n",
       "    </tr>\n",
       "    <tr>\n",
       "      <th>...</th>\n",
       "      <td>...</td>\n",
       "      <td>...</td>\n",
       "      <td>...</td>\n",
       "      <td>...</td>\n",
       "      <td>...</td>\n",
       "      <td>...</td>\n",
       "      <td>...</td>\n",
       "      <td>...</td>\n",
       "      <td>...</td>\n",
       "      <td>...</td>\n",
       "      <td>...</td>\n",
       "      <td>...</td>\n",
       "      <td>...</td>\n",
       "      <td>...</td>\n",
       "      <td>...</td>\n",
       "      <td>...</td>\n",
       "      <td>...</td>\n",
       "      <td>...</td>\n",
       "      <td>...</td>\n",
       "      <td>...</td>\n",
       "      <td>...</td>\n",
       "    </tr>\n",
       "    <tr>\n",
       "      <th>8471</th>\n",
       "      <td>0.070358</td>\n",
       "      <td>0.003048</td>\n",
       "      <td>0.332754</td>\n",
       "      <td>0.359639</td>\n",
       "      <td>0.473210</td>\n",
       "      <td>0.512169</td>\n",
       "      <td>0.607755</td>\n",
       "      <td>0.500391</td>\n",
       "      <td>0.378782</td>\n",
       "      <td>-87.742729</td>\n",
       "      <td>...</td>\n",
       "      <td>3664.812127</td>\n",
       "      <td>3194.922838</td>\n",
       "      <td>1.253166</td>\n",
       "      <td>6714.437434</td>\n",
       "      <td>-53.587788</td>\n",
       "      <td>-76.614616</td>\n",
       "      <td>0.134979</td>\n",
       "      <td>29855</td>\n",
       "      <td>voice</td>\n",
       "      <td>153341_184320.ogg</td>\n",
       "    </tr>\n",
       "    <tr>\n",
       "      <th>8472</th>\n",
       "      <td>0.006115</td>\n",
       "      <td>-0.030219</td>\n",
       "      <td>0.161793</td>\n",
       "      <td>0.190661</td>\n",
       "      <td>0.249882</td>\n",
       "      <td>0.378161</td>\n",
       "      <td>0.461520</td>\n",
       "      <td>0.332309</td>\n",
       "      <td>0.294171</td>\n",
       "      <td>-179.792145</td>\n",
       "      <td>...</td>\n",
       "      <td>2879.597305</td>\n",
       "      <td>1351.326334</td>\n",
       "      <td>1.450944</td>\n",
       "      <td>2412.643029</td>\n",
       "      <td>-52.071827</td>\n",
       "      <td>-76.029976</td>\n",
       "      <td>0.061211</td>\n",
       "      <td>13533</td>\n",
       "      <td>voice</td>\n",
       "      <td>153412_134400.ogg</td>\n",
       "    </tr>\n",
       "    <tr>\n",
       "      <th>8473</th>\n",
       "      <td>-0.008339</td>\n",
       "      <td>0.005653</td>\n",
       "      <td>0.589552</td>\n",
       "      <td>0.309548</td>\n",
       "      <td>0.187583</td>\n",
       "      <td>0.169132</td>\n",
       "      <td>0.240637</td>\n",
       "      <td>0.332375</td>\n",
       "      <td>0.333517</td>\n",
       "      <td>-153.614334</td>\n",
       "      <td>...</td>\n",
       "      <td>3274.875402</td>\n",
       "      <td>2685.831528</td>\n",
       "      <td>1.274003</td>\n",
       "      <td>4614.225695</td>\n",
       "      <td>-66.120743</td>\n",
       "      <td>-80.000000</td>\n",
       "      <td>0.157649</td>\n",
       "      <td>34869</td>\n",
       "      <td>voice</td>\n",
       "      <td>153478_30720.ogg</td>\n",
       "    </tr>\n",
       "    <tr>\n",
       "      <th>8474</th>\n",
       "      <td>0.108185</td>\n",
       "      <td>0.025366</td>\n",
       "      <td>0.615495</td>\n",
       "      <td>0.541314</td>\n",
       "      <td>0.467334</td>\n",
       "      <td>0.611199</td>\n",
       "      <td>0.791296</td>\n",
       "      <td>0.678383</td>\n",
       "      <td>0.508162</td>\n",
       "      <td>-80.250626</td>\n",
       "      <td>...</td>\n",
       "      <td>3376.494191</td>\n",
       "      <td>1428.726581</td>\n",
       "      <td>1.081204</td>\n",
       "      <td>3358.205447</td>\n",
       "      <td>-30.260586</td>\n",
       "      <td>-13.068514</td>\n",
       "      <td>0.032283</td>\n",
       "      <td>7136</td>\n",
       "      <td>voice</td>\n",
       "      <td>153986_203520.ogg</td>\n",
       "    </tr>\n",
       "    <tr>\n",
       "      <th>8475</th>\n",
       "      <td>-0.013555</td>\n",
       "      <td>0.049806</td>\n",
       "      <td>0.521300</td>\n",
       "      <td>0.480413</td>\n",
       "      <td>0.476578</td>\n",
       "      <td>0.401069</td>\n",
       "      <td>0.410142</td>\n",
       "      <td>0.557736</td>\n",
       "      <td>0.489720</td>\n",
       "      <td>29.684790</td>\n",
       "      <td>...</td>\n",
       "      <td>3312.821056</td>\n",
       "      <td>1878.014001</td>\n",
       "      <td>1.031024</td>\n",
       "      <td>3887.392657</td>\n",
       "      <td>-41.159359</td>\n",
       "      <td>-43.333565</td>\n",
       "      <td>0.084145</td>\n",
       "      <td>18609</td>\n",
       "      <td>voice</td>\n",
       "      <td>154172_299520.ogg</td>\n",
       "    </tr>\n",
       "  </tbody>\n",
       "</table>\n",
       "<p>8476 rows × 46 columns</p>\n",
       "</div>"
      ],
      "text/plain": [
       "      tonnetz0  tonnetz1   chroma1   chroma2   chroma3   chroma4   chroma5  \\\n",
       "0     0.010380  0.038218  0.513887  0.581963  0.434641  0.293949  0.317826   \n",
       "1     0.084643 -0.035337  0.175587  0.429345  0.840043  0.384524  0.282545   \n",
       "2    -0.030127  0.082404  0.453814  0.219808  0.228484  0.446050  0.178916   \n",
       "3     0.157274 -0.066099  0.209729  0.338755  0.660264  0.256625  0.275209   \n",
       "4    -0.049096 -0.029067  0.484400  0.334572  0.441629  0.679485  0.382958   \n",
       "...        ...       ...       ...       ...       ...       ...       ...   \n",
       "8471  0.070358  0.003048  0.332754  0.359639  0.473210  0.512169  0.607755   \n",
       "8472  0.006115 -0.030219  0.161793  0.190661  0.249882  0.378161  0.461520   \n",
       "8473 -0.008339  0.005653  0.589552  0.309548  0.187583  0.169132  0.240637   \n",
       "8474  0.108185  0.025366  0.615495  0.541314  0.467334  0.611199  0.791296   \n",
       "8475 -0.013555  0.049806  0.521300  0.480413  0.476578  0.401069  0.410142   \n",
       "\n",
       "       chroma6   chroma7       mfcc0  ...  spectral_band4  spectral_centroid  \\\n",
       "0     0.271148  0.548258  -24.170067  ...     3409.640722        2600.055158   \n",
       "1     0.346341  0.482365  -90.556145  ...     3516.595715        2385.271420   \n",
       "2     0.250981  0.327460 -106.124260  ...     3256.491175        2069.850731   \n",
       "3     0.180417  0.399448  -66.319801  ...     3855.791675        2903.979876   \n",
       "4     0.326033  0.205775 -226.263824  ...     2883.225952        1251.374287   \n",
       "...        ...       ...         ...  ...             ...                ...   \n",
       "8471  0.500391  0.378782  -87.742729  ...     3664.812127        3194.922838   \n",
       "8472  0.332309  0.294171 -179.792145  ...     2879.597305        1351.326334   \n",
       "8473  0.332375  0.333517 -153.614334  ...     3274.875402        2685.831528   \n",
       "8474  0.678383  0.508162  -80.250626  ...     3376.494191        1428.726581   \n",
       "8475  0.557736  0.489720   29.684790  ...     3312.821056        1878.014001   \n",
       "\n",
       "      spectral_onset  spectral_rolloff  spectogram  mel_spectogram  \\\n",
       "0           1.098243       5260.821321  -44.640682      -30.202150   \n",
       "1           1.360742       5225.124166  -46.575737      -59.323132   \n",
       "2           1.343197       4287.155824  -56.276707      -71.512909   \n",
       "3           1.218963       6751.133809  -42.723160      -44.649315   \n",
       "4           1.339527       2263.034730  -62.227947      -78.196365   \n",
       "...              ...               ...         ...             ...   \n",
       "8471        1.253166       6714.437434  -53.587788      -76.614616   \n",
       "8472        1.450944       2412.643029  -52.071827      -76.029976   \n",
       "8473        1.274003       4614.225695  -66.120743      -80.000000   \n",
       "8474        1.081204       3358.205447  -30.260586      -13.068514   \n",
       "8475        1.031024       3887.392657  -41.159359      -43.333565   \n",
       "\n",
       "      zero_crossing_rate  zero_crossing  instrumento          file_name  \n",
       "0               0.149672          33095    accordion  000139_119040.ogg  \n",
       "1               0.112181          24785    accordion  000145_172800.ogg  \n",
       "2               0.096007          21230    accordion  000201_168960.ogg  \n",
       "3               0.144010          31836    accordion  000212_211200.ogg  \n",
       "4               0.059804          13214    accordion   000640_49920.ogg  \n",
       "...                  ...            ...          ...                ...  \n",
       "8471            0.134979          29855        voice  153341_184320.ogg  \n",
       "8472            0.061211          13533        voice  153412_134400.ogg  \n",
       "8473            0.157649          34869        voice   153478_30720.ogg  \n",
       "8474            0.032283           7136        voice  153986_203520.ogg  \n",
       "8475            0.084145          18609        voice  154172_299520.ogg  \n",
       "\n",
       "[8476 rows x 46 columns]"
      ]
     },
     "execution_count": 3,
     "metadata": {},
     "output_type": "execute_result"
    }
   ],
   "source": [
    "df = wp.load_data('df_instrumentos_features_selecionadas')\n",
    "df"
   ]
  },
  {
   "cell_type": "markdown",
   "metadata": {},
   "source": [
    "- Definindo as variaveis de treino e o target"
   ]
  },
  {
   "cell_type": "code",
   "execution_count": 16,
   "metadata": {},
   "outputs": [],
   "source": [
    "le = LabelEncoder()\n",
    "df['labels'] = le.fit_transform(df.instrumento)"
   ]
  },
  {
   "cell_type": "code",
   "execution_count": 5,
   "metadata": {},
   "outputs": [],
   "source": [
    "X = df.drop(columns=['labels', 'instrumento','file_name'])\n",
    "y = df['labels'].to_frame()"
   ]
  },
  {
   "cell_type": "markdown",
   "metadata": {},
   "source": [
    "# TESTE 1: Balanceamento"
   ]
  },
  {
   "cell_type": "markdown",
   "metadata": {},
   "source": [
    "- 1° Opção: Balanceamento das classes com SMOTH"
   ]
  },
  {
   "cell_type": "code",
   "execution_count": null,
   "metadata": {},
   "outputs": [],
   "source": [
    "t1_models = np.array([\n",
    "    GaussianNB(),\n",
    "    KNeighborsClassifier(), \n",
    "    DecisionTreeClassifier(), \n",
    "    RandomForestClassifier(), \n",
    "    HistGradientBoostingClassifier(),\n",
    "    LGBMClassifier(),\n",
    "    XGBClassifier(),\n",
    "    MLPClassifier(),\n",
    "    SVC(),\n",
    "])\n",
    "\n",
    "t1_acuracy_models = [cross_validate_balancead(k=5, model=model, X=X, y=y, oversampling=True) for model in t1_models]\n",
    "\n",
    "dict_results_t1 = {\n",
    "    'Naive Bayes': t1_acuracy_models[0],\n",
    "    'KNN': t1_acuracy_models[1],\n",
    "    'Arvore de Decisão': t1_acuracy_models[2],\n",
    "    'Floresta Aleatoria': t1_acuracy_models[3],\n",
    "    'HistGradientBoosting': t1_acuracy_models[4],\n",
    "    'LIGHTGBM': t1_acuracy_models[5],\n",
    "    'XGB': t1_acuracy_models[6],\n",
    "    'MLP': t1_acuracy_models[7],\n",
    "    'SVC': t1_acuracy_models[8],\n",
    "}\n",
    "\n",
    "dict_results_t1"
   ]
  },
  {
   "cell_type": "markdown",
   "metadata": {},
   "source": [
    "- 2° Opção: Class Weight"
   ]
  },
  {
   "cell_type": "code",
   "execution_count": null,
   "metadata": {},
   "outputs": [],
   "source": [
    "models_class_weight = np.array([\n",
    "    DecisionTreeClassifier(class_weight='balanced'), \n",
    "    RandomForestClassifier(class_weight='balanced', random_state = 0, n_jobs = -1), \n",
    "    LGBMClassifier(class_weight='balanced'),\n",
    "])\n",
    "\n",
    "t1_acuracy_models_class_weight = [cross_validate_balancead(k=5, model=model, X=X, y=y, oversampling=True) for model in models_class_weight]\n",
    "\n",
    "dict_results_t1_class_weight = {\n",
    "    'Arvore de Decisão': t1_acuracy_models_class_weight[0],\n",
    "    'Floresta Aleatoria': t1_acuracy_models_class_weight[1],\n",
    "    'LIGHTGBM': t1_acuracy_models_class_weight[2],\n",
    "}\n",
    "\n",
    "dict_results_t1_class_weight"
   ]
  },
  {
   "cell_type": "markdown",
   "metadata": {},
   "source": [
    "# TESTE 2: Remover Outlier"
   ]
  },
  {
   "cell_type": "markdown",
   "metadata": {},
   "source": [
    "- Treinar modelo de classificação de outilier"
   ]
  },
  {
   "cell_type": "code",
   "execution_count": null,
   "metadata": {},
   "outputs": [],
   "source": [
    "detector_outilier = KNN()\n",
    "\n",
    "new_df = df.drop(columns=['instrumento','file_name'])\n",
    "\n",
    "detector_outilier.fit(new_df)"
   ]
  },
  {
   "cell_type": "markdown",
   "metadata": {},
   "source": [
    "- Checar numeros de outilers e não outilers<br/>\n",
    "**0 (False) Não é outiler**<br/>\n",
    "**1 (True) É outiler**"
   ]
  },
  {
   "cell_type": "code",
   "execution_count": null,
   "metadata": {},
   "outputs": [],
   "source": [
    "previsions = detector_outilier.labels_\n",
    "np.unique(previsions, return_counts=True)"
   ]
  },
  {
   "cell_type": "markdown",
   "metadata": {},
   "source": [
    "- Distancia euclidiana dos registros"
   ]
  },
  {
   "cell_type": "code",
   "execution_count": null,
   "metadata": {},
   "outputs": [],
   "source": [
    "confiance_previsions = detector_outilier.decision_scores_\n",
    "confiance_previsions"
   ]
  },
  {
   "cell_type": "markdown",
   "metadata": {},
   "source": [
    "- Checar os outilers"
   ]
  },
  {
   "cell_type": "code",
   "execution_count": null,
   "metadata": {},
   "outputs": [],
   "source": [
    "# pegando indice dos registros que são outilers\n",
    "outilers_id =[previsions[i] == 1 for i in range(previsions.shape[0])]\n",
    "outilers = df.iloc[outilers_id,:]\n",
    "outilers"
   ]
  },
  {
   "cell_type": "code",
   "execution_count": null,
   "metadata": {},
   "outputs": [],
   "source": [
    "outilers.instrumento.value_counts()"
   ]
  },
  {
   "cell_type": "markdown",
   "metadata": {},
   "source": [
    "- Agora vamos remover os outilers da nossa base"
   ]
  },
  {
   "cell_type": "code",
   "execution_count": null,
   "metadata": {},
   "outputs": [],
   "source": [
    "# pegando indice dos registros que não são outilers\n",
    "outilers_id =[previsions[i] == 0 for i in range(previsions.shape[0])]\n",
    "df_train = df.iloc[outilers_id,:]\n",
    "df_train"
   ]
  },
  {
   "cell_type": "markdown",
   "metadata": {},
   "source": [
    "- Treinar modelos sem outlier e balanceameto"
   ]
  },
  {
   "cell_type": "code",
   "execution_count": null,
   "metadata": {},
   "outputs": [],
   "source": [
    "X_rm_outilers = df_train.drop(columns=['labels', 'instrumento','file_name'])\n",
    "y_rm_outilers = df_train['labels'].to_frame()\n",
    "\n",
    "models = np.array([\n",
    "    GaussianNB(),\n",
    "    KNeighborsClassifier(), \n",
    "    DecisionTreeClassifier(), \n",
    "    RandomForestClassifier(), \n",
    "    HistGradientBoostingClassifier(),\n",
    "    LGBMClassifier(),\n",
    "    XGBClassifier(),\n",
    "    MLPClassifier(),\n",
    "    SVC(),\n",
    "])\n",
    "\n",
    "t2_acuracy_models = [cross_validate_balancead(k=5, model=model, X=X_rm_outilers,  y=y_rm_outilers) for model in models]\n",
    "\n",
    "dict_results_t2 = {\n",
    "    'Naive Bayes': t2_acuracy_models[0],\n",
    "    'KNN': t2_acuracy_models[1],\n",
    "    'Arvore de Decisão': t2_acuracy_models[2],\n",
    "    'Floresta Aleatoria': t2_acuracy_models[3],\n",
    "    'HistGradientBoosting': t2_acuracy_models[4],\n",
    "    'LIGHTGBM': t2_acuracy_models[5],\n",
    "    'XGB': t2_acuracy_models[6],\n",
    "    'MLP': t2_acuracy_models[7],\n",
    "    'SVC': t2_acuracy_models[8],\n",
    "}\n",
    "\n",
    "dict_results_t2"
   ]
  },
  {
   "cell_type": "markdown",
   "metadata": {},
   "source": [
    "# TESTE 3: Features de Maior Correlação"
   ]
  },
  {
   "cell_type": "code",
   "execution_count": null,
   "metadata": {},
   "outputs": [],
   "source": [
    "df.corr()"
   ]
  },
  {
   "cell_type": "code",
   "execution_count": null,
   "metadata": {},
   "outputs": [],
   "source": [
    "df_corr = df.corr().unstack().reset_index().dropna()\n",
    "df_corr.rename(columns = {'level_0': 'features_a', 'level_1': 'features_b', 0:'correlacao'}, inplace = True)\n",
    "df_corr"
   ]
  },
  {
   "cell_type": "markdown",
   "metadata": {},
   "source": [
    "- Correlação Positia"
   ]
  },
  {
   "cell_type": "code",
   "execution_count": null,
   "metadata": {},
   "outputs": [],
   "source": [
    "corr_posit = df_corr.query('correlacao > 0.7 and correlacao < 1.0')\n",
    "corr_posit"
   ]
  },
  {
   "cell_type": "code",
   "execution_count": null,
   "metadata": {},
   "outputs": [],
   "source": [
    "X =  df[corr_posit.features_a.unique()]\n",
    "y = df['labels'].to_frame()\n",
    "\n",
    "models = np.array([\n",
    "    GaussianNB(),\n",
    "    KNeighborsClassifier(), \n",
    "    DecisionTreeClassifier(), \n",
    "    RandomForestClassifier(), \n",
    "    HistGradientBoostingClassifier(),\n",
    "    LGBMClassifier(),\n",
    "    XGBClassifier(),\n",
    "    MLPClassifier(),\n",
    "    SVC(),\n",
    "])\n",
    "\n",
    "t3_acuracy_models_corr_posit = [cross_validate_balancead(k=5, model=model, X=X, y=y) for model in models]\n",
    "\n",
    "dict_results_t3_corr_posit = {\n",
    "    'Naive Bayes': t3_acuracy_models_corr_posit[0],\n",
    "    'KNN': t3_acuracy_models_corr_posit[1],\n",
    "    'Arvore de Decisão': t3_acuracy_models_corr_posit[2],\n",
    "    'Floresta Aleatoria': t3_acuracy_models_corr_posit[3],\n",
    "    'HistGradientBoosting': t3_acuracy_models_corr_posit[4],\n",
    "    'LIGHTGBM': t3_acuracy_models_corr_posit[5],\n",
    "    'XGB': t3_acuracy_models_corr_posit[6],\n",
    "    'MLP': t3_acuracy_models_corr_posit[7],\n",
    "    'SVC': t3_acuracy_models_corr_posit[8],\n",
    "}\n",
    "\n",
    "dict_results_t3_corr_posit"
   ]
  },
  {
   "cell_type": "markdown",
   "metadata": {},
   "source": [
    "- Correlação Negativa"
   ]
  },
  {
   "cell_type": "code",
   "execution_count": null,
   "metadata": {},
   "outputs": [],
   "source": [
    "corr_negat = df_corr.query('correlacao < 0 and correlacao < -0.66')\n",
    "corr_negat"
   ]
  },
  {
   "cell_type": "code",
   "execution_count": null,
   "metadata": {},
   "outputs": [],
   "source": [
    "X =  df[corr_negat.features_b.unique()]\n",
    "y = df['labels'].to_frame()\n",
    "\n",
    "models = np.array([\n",
    "    GaussianNB(),\n",
    "    KNeighborsClassifier(), \n",
    "    DecisionTreeClassifier(), \n",
    "    RandomForestClassifier(), \n",
    "    HistGradientBoostingClassifier(),\n",
    "    LGBMClassifier(),\n",
    "    XGBClassifier(),\n",
    "    MLPClassifier(),\n",
    "    SVC(),\n",
    "])\n",
    "\n",
    "t3_acuracy_models_corr_neg = [cross_validate_balancead(k=5, model=model, X=X, y=y) for model in t1_models]\n",
    "\n",
    "dict_results_t3_corr_neg = {\n",
    "    'Naive Bayes': t3_acuracy_models_corr_neg[0],\n",
    "    'KNN': t3_acuracy_models_corr_neg[1],\n",
    "    'Arvore de Decisão': t3_acuracy_models_corr_neg[2],\n",
    "    'Floresta Aleatoria': t3_acuracy_models_corr_neg[3],\n",
    "    'HistGradientBoosting': t3_acuracy_models_corr_neg[4],\n",
    "    'LIGHTGBM': t3_acuracy_models_corr_neg[5],\n",
    "    'XGB': t3_acuracy_models_corr_neg[6],\n",
    "    'MLP': t3_acuracy_models_corr_neg[7],\n",
    "    'SVC': t3_acuracy_models_corr_neg[8],\n",
    "}\n",
    "\n",
    "dict_results_t3_corr_neg"
   ]
  },
  {
   "cell_type": "markdown",
   "metadata": {},
   "source": [
    "- Se combinarmos as duas abordagens ?"
   ]
  },
  {
   "cell_type": "code",
   "execution_count": null,
   "metadata": {},
   "outputs": [],
   "source": [
    "features = np.append(corr_posit.features_b.values, corr_negat.features_b.values)\n",
    "features = np.unique(features)\n",
    "\n",
    "X = df[features]\n",
    "y = df['labels'].to_frame()\n",
    "\n",
    "models = np.array([\n",
    "    GaussianNB(),\n",
    "    KNeighborsClassifier(), \n",
    "    DecisionTreeClassifier(), \n",
    "    RandomForestClassifier(), \n",
    "    HistGradientBoostingClassifier(),\n",
    "    LGBMClassifier(),\n",
    "    XGBClassifier(),\n",
    "    MLPClassifier(),\n",
    "    SVC(),\n",
    "])\n",
    "\n",
    "t3_combine_corr = [cross_validate_balancead(k=5, model=model, X=X, y=y) for model in t1_models]\n",
    "\n",
    "dict_results_t3_cb = {\n",
    "    'Naive Bayes': t3_combine_corr[0],\n",
    "    'KNN': t3_combine_corr[1],\n",
    "    'Arvore de Decisão': t3_combine_corr[2],\n",
    "    'Floresta Aleatoria': t3_combine_corr[3],\n",
    "    'HistGradientBoosting': t3_combine_corr[4],\n",
    "    'LIGHTGBM': t3_combine_corr[5],\n",
    "    'XGB': t3_combine_corr[6],\n",
    "    'MLP': t3_combine_corr[7],\n",
    "    'SVC': t3_combine_corr[8],\n",
    "}\n",
    "\n",
    "dict_results_t3_cb"
   ]
  },
  {
   "cell_type": "markdown",
   "metadata": {},
   "source": [
    "# TESTE4: Recursive Feature Elimination - (RFE)"
   ]
  },
  {
   "cell_type": "markdown",
   "metadata": {},
   "source": [
    "- RFE"
   ]
  },
  {
   "cell_type": "code",
   "execution_count": 22,
   "metadata": {},
   "outputs": [],
   "source": [
    "X = df.drop(columns=['instrumento','file_name','labels'])\n",
    "y = df['labels'].to_frame()\n",
    "\n",
    "clf = DecisionTreeClassifier(max_depth=17,\n",
    "                             max_features='auto', \n",
    "                             min_samples_leaf=2,\n",
    "                             min_samples_split=3)\n",
    "                               \n",
    "estimators = RFECV(estimator=clf, scoring='accuracy', cv=5)\n",
    "\n",
    "# fit rfecv to data\n",
    "rfecv_data = estimators.fit(X, y)\n",
    "\n",
    "# gorresponde à posição do ranking do i-ésimo recurso\n",
    "ranking_features = rfecv_data.ranking_\n",
    "\n",
    "# A máscara dos recursos selecionados.\n",
    "support_features = rfecv_data.support_\n",
    "\n",
    "# filtro\n",
    "features_selects = X.columns[support_features]"
   ]
  },
  {
   "cell_type": "code",
   "execution_count": 25,
   "metadata": {},
   "outputs": [
    {
     "data": {
      "text/plain": [
       "Index(['chroma2', 'chroma4', 'chroma6', 'chroma7', 'mfcc0', 'mfcc1', 'mfcc3',\n",
       "       'mfcc4', 'mfcc5', 'mfcc7', 'mfcc8', 'mfcc9', 'mfcc10', 'mfcc12',\n",
       "       'mfcc13', 'mfcc15', 'mfcc19', 'chroma8', 'chroma9', 'chroma11',\n",
       "       'chroma12', 'spectral_band3', 'spectral_band4', 'spectral_onset',\n",
       "       'spectral_rolloff', 'mel_spectogram', 'zero_crossing_rate',\n",
       "       'zero_crossing'],\n",
       "      dtype='object')"
      ]
     },
     "execution_count": 25,
     "metadata": {},
     "output_type": "execute_result"
    }
   ],
   "source": [
    "features_selects"
   ]
  },
  {
   "cell_type": "markdown",
   "metadata": {},
   "source": [
    "- Count Ranking Features"
   ]
  },
  {
   "cell_type": "code",
   "execution_count": null,
   "metadata": {},
   "outputs": [],
   "source": [
    "# Couts da features import \n",
    "unique, frequency = np.unique(ranking_features, return_counts=True)\n",
    "summari = np.asarray((unique, frequency)).T\n",
    "summari"
   ]
  },
  {
   "cell_type": "markdown",
   "metadata": {},
   "source": [
    "- Treinamento de Modelo"
   ]
  },
  {
   "cell_type": "code",
   "execution_count": null,
   "metadata": {},
   "outputs": [],
   "source": [
    "models = np.array([\n",
    "    GaussianNB(),\n",
    "    KNeighborsClassifier(), \n",
    "    DecisionTreeClassifier(), \n",
    "    RandomForestClassifier(), \n",
    "    HistGradientBoostingClassifier(),\n",
    "    LGBMClassifier(),\n",
    "    XGBClassifier(),\n",
    "    MLPClassifier(),\n",
    "    SVC(),\n",
    "])\n",
    "\n",
    "t4_acuracy_models = [cross_validate_balancead(k=5, model=model, X=X, y=y, oversampling=True) for model in models]\n",
    "\n",
    "dict_results_t4 = {\n",
    "    'Naive Bayes': t4_acuracy_models[0],\n",
    "    'KNN': t4_acuracy_models[1],\n",
    "    'Arvore de Decisão': t4_acuracy_models[2],\n",
    "    'Floresta Aleatoria': t4_acuracy_models[3],\n",
    "    'HistGradientBoosting': t4_acuracy_models[4],\n",
    "    'LIGHTGBM': t4_acuracy_models[5],\n",
    "    'XGB': t4_acuracy_models[6],\n",
    "    'MLP': t4_acuracy_models[7],\n",
    "    'SVC': t4_acuracy_models[8],\n",
    "}\n",
    "\n",
    "dict_results_t4"
   ]
  },
  {
   "cell_type": "markdown",
   "metadata": {},
   "source": [
    "# TESTE 5: SequentialFeatureSelector"
   ]
  },
  {
   "cell_type": "code",
   "execution_count": null,
   "metadata": {},
   "outputs": [],
   "source": [
    "# https://scikit-learn.org/stable/modules/generated/sklearn.feature_selection.SequentialFeatureSelector.html#sklearn.feature_selection.SequentialFeatureSelector"
   ]
  },
  {
   "cell_type": "markdown",
   "metadata": {},
   "source": [
    "# TESTE 6: Permutação"
   ]
  },
  {
   "cell_type": "markdown",
   "metadata": {},
   "source": [
    "- Permutação de 2 features"
   ]
  },
  {
   "cell_type": "code",
   "execution_count": 33,
   "metadata": {},
   "outputs": [],
   "source": [
    "comb = combination(features_selects, 3)"
   ]
  },
  {
   "cell_type": "code",
   "execution_count": 34,
   "metadata": {},
   "outputs": [
    {
     "data": {
      "text/plain": [
       "(3276, 3)"
      ]
     },
     "execution_count": 34,
     "metadata": {},
     "output_type": "execute_result"
    }
   ],
   "source": [
    "comb.shape"
   ]
  },
  {
   "cell_type": "code",
   "execution_count": 32,
   "metadata": {},
   "outputs": [
    {
     "data": {
      "text/plain": [
       "(378, 2)"
      ]
     },
     "execution_count": 32,
     "metadata": {},
     "output_type": "execute_result"
    }
   ],
   "source": [
    "comb.shape"
   ]
  },
  {
   "cell_type": "code",
   "execution_count": null,
   "metadata": {},
   "outputs": [],
   "source": [
    "comb = combination(df.columns[:-3].values, 2)\n",
    "for i in comb:\n",
    "    print(f'Permutação {i}')\n",
    "    \n",
    "    # models = np.array([\n",
    "    #     GaussianNB(),\n",
    "    #     KNeighborsClassifier(), \n",
    "    #     DecisionTreeClassifier(), \n",
    "    #     RandomForestClassifier(), \n",
    "    #     HistGradientBoostingClassifier(),\n",
    "    #     LGBMClassifier(),\n",
    "    #     XGBClassifier(),\n",
    "    #     MLPClassifier(),\n",
    "    #     SVC(),\n",
    "    # ])\n",
    "    \n",
    "    # t5_acuracy_models = [cross_validate_balancead(k=5, \n",
    "    #                                               model=model,\n",
    "    #                                               X=df[i],\n",
    "    #                                               y=df['labels'].to_frame(),\n",
    "    #                                               oversampling=True) for model in models]\n",
    "    \n",
    "    # dict_results = {\n",
    "    #     'Naive Bayes': t5_acuracy_models[0],\n",
    "    #     'KNN': t5_acuracy_models[1],\n",
    "    #     'Arvore de Decisão': t5_acuracy_models[2],\n",
    "    #     'Floresta Aleatoria': t5_acuracy_models[3],\n",
    "    #     'HistGradientBoosting': t5_acuracy_models[4],\n",
    "    #     'LIGHTGBM': t5_acuracy_models[5],\n",
    "    #     'XGB': t5_acuracy_models[6],\n",
    "    #     'MLP': t5_acuracy_models[7],\n",
    "    #     'SVC': t5_acuracy_models[8],\n",
    "    # }"
   ]
  }
 ],
 "metadata": {
  "kernelspec": {
   "display_name": "Python 3.9.0 ('.venv': poetry)",
   "language": "python",
   "name": "python3"
  },
  "language_info": {
   "codemirror_mode": {
    "name": "ipython",
    "version": 3
   },
   "file_extension": ".py",
   "mimetype": "text/x-python",
   "name": "python",
   "nbconvert_exporter": "python",
   "pygments_lexer": "ipython3",
   "version": "3.9.0"
  },
  "orig_nbformat": 4,
  "vscode": {
   "interpreter": {
    "hash": "375573d77dacab1a606010b2ae5554b2906d1f27f5069f1891d624619a31c775"
   }
  }
 },
 "nbformat": 4,
 "nbformat_minor": 2
}
