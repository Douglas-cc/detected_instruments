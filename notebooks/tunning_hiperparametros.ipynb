{
 "cells": [
  {
   "cell_type": "code",
   "execution_count": 6,
   "metadata": {},
   "outputs": [],
   "source": [
    "import warnings\n",
    "warnings.filterwarnings('ignore')\n",
    "\n",
    "import numpy as np\n",
    "import pandas as pd \n",
    "import matplotlib.pyplot as plt                \n",
    "from sklearn.preprocessing import LabelEncoder\n",
    "from src.wrapped import Wrapped\n",
    "from src.analysesV02 import Analytics \n",
    "from src.trainV02 import TrainModels\n",
    "from skopt.space import Real, Integer, Categorical\n",
    "from sklearn.ensemble import RandomForestClassifier, HistGradientBoostingClassifier\n",
    "from xgboost import XGBClassifier"
   ]
  },
  {
   "attachments": {},
   "cell_type": "markdown",
   "metadata": {},
   "source": [
    "# Importando dados para treinamento"
   ]
  },
  {
   "cell_type": "code",
   "execution_count": null,
   "metadata": {},
   "outputs": [],
   "source": [
    "ac = Analytics()\n",
    "tm = TrainModels()\n",
    "wp = Wrapped(\n",
    "    '../data/row/',\n",
    "    '../data/processed/',\n",
    "    '../data/files/'\n",
    ")\n",
    "\n",
    "# dataframe\n",
    "df = wp.load_data('df_instrumentos_features_selecionadas').drop(columns=['file_name'])\n",
    "df = df.query(\"instrumento != 'voice' & instrumento != 'synthesizer'\")\n",
    "\n",
    "# dataframes por instrumentos\n",
    "inst_corda    = [\"cello\", \"guitar\", \"violin\", \"bass\", \"banjo\", \"mandolin\", \"ukulele\"]\n",
    "inst_percusao = [\"mallet_percussion\", \"drums\", \"cymbals\"]\n",
    "inst_sopro    = [\"clarinet\", \"trombone\", \"flute\", \"trumpet\", \"saxophone\"]\n",
    "inst_aerofone = [\"accordion\", \"organ\", \"piano\"] \n",
    "\n",
    "df_inst_aerofone = df[df['instrumento'].isin(inst_aerofone)]\n",
    "df_inst_sopro    = df[df['instrumento'].isin(inst_sopro)]\n",
    "df_inst_corda    = df[df['instrumento'].isin(inst_corda)]\n",
    "df_inst_percusao = df[df['instrumento'].isin(inst_percusao)]"
   ]
  },
  {
   "attachments": {},
   "cell_type": "markdown",
   "metadata": {},
   "source": [
    "# Pre-processamento\n",
    "\n",
    "- Label Encoder"
   ]
  },
  {
   "cell_type": "code",
   "execution_count": null,
   "metadata": {},
   "outputs": [],
   "source": [
    "le = LabelEncoder()\n",
    "\n",
    "df_inst_aerofone['labels'] = le.fit_transform(df_inst_aerofone.instrumento)\n",
    "df_inst_sopro['labels']    = le.fit_transform(df_inst_sopro.instrumento)\n",
    "df_inst_corda['labels']    = le.fit_transform(df_inst_corda.instrumento)\n",
    "df_inst_percusao['labels'] = le.fit_transform(df_inst_percusao.instrumento)"
   ]
  },
  {
   "attachments": {},
   "cell_type": "markdown",
   "metadata": {},
   "source": [
    "# Analise de Anomalias"
   ]
  },
  {
   "attachments": {},
   "cell_type": "markdown",
   "metadata": {},
   "source": [
    "#### Tunning de Hiperparametros"
   ]
  },
  {
   "attachments": {},
   "cell_type": "markdown",
   "metadata": {},
   "source": [
    "- XGBoost"
   ]
  },
  {
   "cell_type": "code",
   "execution_count": null,
   "metadata": {},
   "outputs": [],
   "source": [
    "parametros = {\n",
    "    \"eta\": Real(0.01, 0.2),\n",
    "    \"max_depth\": Integer(6, 20),\n",
    "    \"gamma\":  Integer(0, 10),\n",
    "    \"learning_rate\": Real(0,1),\n",
    "    \"subsample\": Real(0.5, 1)\n",
    "}\n",
    "\n",
    "tm.train_tunning_hyperparameters(\n",
    "    dataframe=df_inst_corda, \n",
    "    model=XGBClassifier(),\n",
    "    parameters=parametros, \n",
    "    filename=\"resultados_parametros_corda_XGBoost\"\n",
    ")"
   ]
  },
  {
   "attachments": {},
   "cell_type": "markdown",
   "metadata": {},
   "source": [
    "- HistGBM"
   ]
  },
  {
   "cell_type": "code",
   "execution_count": null,
   "metadata": {},
   "outputs": [],
   "source": [
    "parametros = {\n",
    "    \"min_samples_leaf\": Integer(5, 20),\n",
    "    \"max_depth\": Integer(6, 20),\n",
    "    \"loss\": Categorical(['log_loss','auto','categorical_crossentropy']), \n",
    "    \"max_bins\": Integer(100, 250)\n",
    "}\n",
    "\n",
    "tm.train_tunning_hyperparameters(\n",
    "    dataframe=df_inst_sopro, \n",
    "    model=HistGradientBoostingClassifier(), \n",
    "    parameters=parametros, \n",
    "    filename=\"resultados_parametros_sopro_histGB\"\n",
    ")"
   ]
  },
  {
   "attachments": {},
   "cell_type": "markdown",
   "metadata": {},
   "source": [
    "- Random Forest"
   ]
  },
  {
   "cell_type": "code",
   "execution_count": null,
   "metadata": {},
   "outputs": [],
   "source": [
    "parametros = {\n",
    "    \"criterion\": Categorical(['gini','entropy']),\n",
    "    \"max_depth\": Integer(6, 20),\n",
    "    \"min_samples_split\": Integer(2, 10),\n",
    "    \"min_samples_leaf\": Integer(2, 10),\n",
    "    \"max_features\": Categorical(['auto', 'sqrt','log2']), \n",
    "    \"bootstrap\": Categorical([True, False]),\n",
    "    \"n_estimators\": Integer(100, 500)\n",
    "}\n",
    "\n",
    "tm.train_tunning_hyperparameters(\n",
    "    dataframe=df_inst_aerofone, \n",
    "    model=RandomForestClassifier(), \n",
    "    parameters=parametros, \n",
    "    filename=\"resultados_parametros_aerofone_random_forest\"\n",
    ")"
   ]
  }
 ],
 "metadata": {
  "kernelspec": {
   "display_name": ".venv",
   "language": "python",
   "name": "python3"
  },
  "language_info": {
   "codemirror_mode": {
    "name": "ipython",
    "version": 3
   },
   "file_extension": ".py",
   "mimetype": "text/x-python",
   "name": "python",
   "nbconvert_exporter": "python",
   "pygments_lexer": "ipython3",
   "version": "3.10.0"
  },
  "orig_nbformat": 4,
  "vscode": {
   "interpreter": {
    "hash": "d0cd7a577fc06c35e185d01be0cfbddf373ad80e2bd1d70dc00997e153ef8afb"
   }
  }
 },
 "nbformat": 4,
 "nbformat_minor": 2
}
