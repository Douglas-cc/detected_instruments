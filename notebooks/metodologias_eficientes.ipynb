{
 "cells": [
  {
   "cell_type": "code",
   "execution_count": 1,
   "metadata": {},
   "outputs": [],
   "source": [
    "import warnings\n",
    "warnings.filterwarnings(\"ignore\")\n",
    "\n",
    "import numpy as np\n",
    "import pandas as pd \n",
    "import seaborn as sns\n",
    "import matplotlib.pyplot as plt\n",
    "\n",
    "from sklearn.preprocessing import LabelEncoder\n",
    "from sklearn.feature_selection import( \n",
    "    RFECV,\n",
    "    SequentialFeatureSelector,\n",
    "    SelectFromModel\n",
    ")\n",
    "\n",
    "from src.wrapped import Wrapped\n",
    "from src.analyses import * \n",
    "from src.train import *"
   ]
  },
  {
   "cell_type": "code",
   "execution_count": 2,
   "metadata": {},
   "outputs": [],
   "source": [
    "wp = Wrapped(\n",
    "    '../data/row/',\n",
    "    '../data/processed/',\n",
    "    '../data/files/'\n",
    ")"
   ]
  },
  {
   "cell_type": "markdown",
   "metadata": {},
   "source": [
    "# Importando dados para treinamento"
   ]
  },
  {
   "cell_type": "code",
   "execution_count": 3,
   "metadata": {},
   "outputs": [],
   "source": [
    "# dataframe\n",
    "df = wp.load_data('df_instrumentos_features_selecionadas').drop(columns=['file_name'])\n",
    "\n",
    "# dataframes por instrumentos\n",
    "inst_corda = [\"cello\", \"guitar\", \"violin\", \"bass\", \"banjo\", \"mandolin\", \"ukulele\"]\n",
    "inst_percusao = [\"mallet_percussion\", \"drums\", \"cymbals\"]\n",
    "inst_sopro = [\"clarinet\", \"trombone\", \"flute\", \"trumpet\", \"saxophone\"]\n",
    "inst_aerofone = [\"accordion\", \"organ\", \"piano\"] \n",
    "\n",
    "df_inst_aerofone = df[df['instrumento'].isin(inst_aerofone)]\n",
    "df_inst_sopro = df[df['instrumento'].isin(inst_sopro)]\n",
    "df_inst_corda = df[df['instrumento'].isin(inst_corda)]\n",
    "df_inst_percusao = df[df['instrumento'].isin(inst_percusao)]\n",
    "\n",
    "# remover instrumento de corda \n",
    "inst_selecionados = np.concatenate((inst_percusao, inst_sopro, inst_aerofone))\n",
    "new_df = df[df['instrumento'].isin(inst_selecionados)]"
   ]
  },
  {
   "cell_type": "markdown",
   "metadata": {},
   "source": [
    "# Pre-processamento"
   ]
  },
  {
   "cell_type": "markdown",
   "metadata": {},
   "source": [
    "- Label Encoder"
   ]
  },
  {
   "cell_type": "code",
   "execution_count": 4,
   "metadata": {},
   "outputs": [],
   "source": [
    "le = LabelEncoder()\n",
    "\n",
    "df_inst_aerofone['labels'] = le.fit_transform(df_inst_aerofone.instrumento)\n",
    "df_inst_sopro['labels'] = le.fit_transform(df_inst_sopro.instrumento)\n",
    "df_inst_corda['labels'] = le.fit_transform(df_inst_corda.instrumento)\n",
    "df_inst_percusao['labels'] = le.fit_transform(df_inst_percusao.instrumento)\n",
    "new_df['labels'] = le.fit_transform(new_df.instrumento)"
   ]
  },
  {
   "cell_type": "markdown",
   "metadata": {},
   "source": [
    "## Remover Outilers "
   ]
  },
  {
   "cell_type": "markdown",
   "metadata": {},
   "source": [
    "- Toda a base menos os instrumentos de corda"
   ]
  },
  {
   "cell_type": "code",
   "execution_count": 5,
   "metadata": {},
   "outputs": [
    {
     "name": "stdout",
     "output_type": "stream",
     "text": [
      "Acuracia do modelo GaussianNB() do Fold 0: 0.34576271186440677\n",
      "Acuracia do modelo GaussianNB() do Fold 1: 0.384180790960452\n",
      "Acuracia do modelo GaussianNB() do Fold 2: 0.3728813559322034\n",
      "Acuracia do modelo GaussianNB() do Fold 3: 0.3807909604519774\n",
      "Acuracia do modelo GaussianNB() do Fold 4: 0.38531073446327685\n",
      "Acuracia do modelo KNeighborsClassifier() do Fold 0: 0.2248587570621469\n",
      "Acuracia do modelo KNeighborsClassifier() do Fold 1: 0.23389830508474577\n",
      "Acuracia do modelo KNeighborsClassifier() do Fold 2: 0.2384180790960452\n",
      "Acuracia do modelo KNeighborsClassifier() do Fold 3: 0.20903954802259886\n",
      "Acuracia do modelo KNeighborsClassifier() do Fold 4: 0.27005649717514124\n",
      "Acuracia do modelo DecisionTreeClassifier() do Fold 0: 0.2847457627118644\n",
      "Acuracia do modelo DecisionTreeClassifier() do Fold 1: 0.28361581920903955\n",
      "Acuracia do modelo DecisionTreeClassifier() do Fold 2: 0.3107344632768362\n",
      "Acuracia do modelo DecisionTreeClassifier() do Fold 3: 0.2824858757062147\n",
      "Acuracia do modelo DecisionTreeClassifier() do Fold 4: 0.30621468926553674\n",
      "Acuracia do modelo RandomForestClassifier() do Fold 0: 0.41694915254237286\n",
      "Acuracia do modelo RandomForestClassifier() do Fold 1: 0.4463276836158192\n",
      "Acuracia do modelo RandomForestClassifier() do Fold 2: 0.4327683615819209\n",
      "Acuracia do modelo RandomForestClassifier() do Fold 3: 0.42598870056497173\n",
      "Acuracia do modelo RandomForestClassifier() do Fold 4: 0.4429378531073446\n",
      "Acuracia do modelo HistGradientBoostingClassifier() do Fold 0: 0.4689265536723164\n",
      "Acuracia do modelo HistGradientBoostingClassifier() do Fold 1: 0.4666666666666667\n",
      "Acuracia do modelo HistGradientBoostingClassifier() do Fold 2: 0.4745762711864407\n",
      "Acuracia do modelo HistGradientBoostingClassifier() do Fold 3: 0.4440677966101695\n",
      "Acuracia do modelo HistGradientBoostingClassifier() do Fold 4: 0.480225988700565\n",
      "Acuracia do modelo LGBMClassifier() do Fold 0: 0.47231638418079097\n",
      "Acuracia do modelo LGBMClassifier() do Fold 1: 0.4610169491525424\n",
      "Acuracia do modelo LGBMClassifier() do Fold 2: 0.4858757062146893\n",
      "Acuracia do modelo LGBMClassifier() do Fold 3: 0.43050847457627117\n",
      "Acuracia do modelo LGBMClassifier() do Fold 4: 0.49491525423728816\n",
      "Acuracia do modelo MLPClassifier() do Fold 0: 0.1751412429378531\n",
      "Acuracia do modelo MLPClassifier() do Fold 1: 0.1864406779661017\n",
      "Acuracia do modelo MLPClassifier() do Fold 2: 0.22937853107344633\n",
      "Acuracia do modelo MLPClassifier() do Fold 3: 0.19887005649717515\n",
      "Acuracia do modelo MLPClassifier() do Fold 4: 0.2598870056497175\n",
      "Acuracia do modelo XGBClassifier(base_score=0.5, booster='gbtree', callbacks=None,\n",
      "              colsample_bylevel=1, colsample_bynode=1, colsample_bytree=1,\n",
      "              early_stopping_rounds=None, enable_categorical=False,\n",
      "              eval_metric=None, gamma=0, gpu_id=-1, grow_policy='depthwise',\n",
      "              importance_type=None, interaction_constraints='',\n",
      "              learning_rate=0.300000012, max_bin=256, max_cat_to_onehot=4,\n",
      "              max_delta_step=0, max_depth=6, max_leaves=0, min_child_weight=1,\n",
      "              missing=nan, monotone_constraints='()', n_estimators=100,\n",
      "              n_jobs=0, num_parallel_tree=1, objective='multi:softprob',\n",
      "              predictor='auto', random_state=0, reg_alpha=0, ...) do Fold 0: 0.4655367231638418\n",
      "Acuracia do modelo XGBClassifier(base_score=0.5, booster='gbtree', callbacks=None,\n",
      "              colsample_bylevel=1, colsample_bynode=1, colsample_bytree=1,\n",
      "              early_stopping_rounds=None, enable_categorical=False,\n",
      "              eval_metric=None, gamma=0, gpu_id=-1, grow_policy='depthwise',\n",
      "              importance_type=None, interaction_constraints='',\n",
      "              learning_rate=0.300000012, max_bin=256, max_cat_to_onehot=4,\n",
      "              max_delta_step=0, max_depth=6, max_leaves=0, min_child_weight=1,\n",
      "              missing=nan, monotone_constraints='()', n_estimators=100,\n",
      "              n_jobs=0, num_parallel_tree=1, objective='multi:softprob',\n",
      "              predictor='auto', random_state=0, reg_alpha=0, ...) do Fold 1: 0.4553672316384181\n",
      "Acuracia do modelo XGBClassifier(base_score=0.5, booster='gbtree', callbacks=None,\n",
      "              colsample_bylevel=1, colsample_bynode=1, colsample_bytree=1,\n",
      "              early_stopping_rounds=None, enable_categorical=False,\n",
      "              eval_metric=None, gamma=0, gpu_id=-1, grow_policy='depthwise',\n",
      "              importance_type=None, interaction_constraints='',\n",
      "              learning_rate=0.300000012, max_bin=256, max_cat_to_onehot=4,\n",
      "              max_delta_step=0, max_depth=6, max_leaves=0, min_child_weight=1,\n",
      "              missing=nan, monotone_constraints='()', n_estimators=100,\n",
      "              n_jobs=0, num_parallel_tree=1, objective='multi:softprob',\n",
      "              predictor='auto', random_state=0, reg_alpha=0, ...) do Fold 2: 0.4745762711864407\n",
      "Acuracia do modelo XGBClassifier(base_score=0.5, booster='gbtree', callbacks=None,\n",
      "              colsample_bylevel=1, colsample_bynode=1, colsample_bytree=1,\n",
      "              early_stopping_rounds=None, enable_categorical=False,\n",
      "              eval_metric=None, gamma=0, gpu_id=-1, grow_policy='depthwise',\n",
      "              importance_type=None, interaction_constraints='',\n",
      "              learning_rate=0.300000012, max_bin=256, max_cat_to_onehot=4,\n",
      "              max_delta_step=0, max_depth=6, max_leaves=0, min_child_weight=1,\n",
      "              missing=nan, monotone_constraints='()', n_estimators=100,\n",
      "              n_jobs=0, num_parallel_tree=1, objective='multi:softprob',\n",
      "              predictor='auto', random_state=0, reg_alpha=0, ...) do Fold 3: 0.4327683615819209\n",
      "Acuracia do modelo XGBClassifier(base_score=0.5, booster='gbtree', callbacks=None,\n",
      "              colsample_bylevel=1, colsample_bynode=1, colsample_bytree=1,\n",
      "              early_stopping_rounds=None, enable_categorical=False,\n",
      "              eval_metric=None, gamma=0, gpu_id=-1, grow_policy='depthwise',\n",
      "              importance_type=None, interaction_constraints='',\n",
      "              learning_rate=0.300000012, max_bin=256, max_cat_to_onehot=4,\n",
      "              max_delta_step=0, max_depth=6, max_leaves=0, min_child_weight=1,\n",
      "              missing=nan, monotone_constraints='()', n_estimators=100,\n",
      "              n_jobs=0, num_parallel_tree=1, objective='multi:softprob',\n",
      "              predictor='auto', random_state=0, reg_alpha=0, ...) do Fold 4: 0.4553672316384181\n",
      "Acuracia do modelo SVC() do Fold 0: 0.25875706214689265\n",
      "Acuracia do modelo SVC() do Fold 1: 0.2655367231638418\n",
      "Acuracia do modelo SVC() do Fold 2: 0.2858757062146893\n",
      "Acuracia do modelo SVC() do Fold 3: 0.2677966101694915\n",
      "Acuracia do modelo SVC() do Fold 4: 0.27796610169491526\n"
     ]
    },
    {
     "data": {
      "text/plain": [
       "{'Naive Bayes': 0.3737853107344633,\n",
       " 'KNN': 0.23525423728813558,\n",
       " 'Arvore de Decisão': 0.29355932203389834,\n",
       " 'Floresta Aleatoria': 0.43299435028248584,\n",
       " 'HistGradientBoosting': 0.46689265536723157,\n",
       " 'LIGHTGBM': 0.46892655367231645,\n",
       " 'MLP': 0.20994350282485877,\n",
       " 'XGB': 0.4567231638418079,\n",
       " 'SVC': 0.2711864406779661}"
      ]
     },
     "execution_count": 5,
     "metadata": {},
     "output_type": "execute_result"
    }
   ],
   "source": [
    "train_models(remove_outilers(new_df.drop(columns=['instrumento'])))"
   ]
  },
  {
   "cell_type": "markdown",
   "metadata": {},
   "source": [
    "- Instrumento de corda"
   ]
  },
  {
   "cell_type": "code",
   "execution_count": 6,
   "metadata": {},
   "outputs": [
    {
     "name": "stdout",
     "output_type": "stream",
     "text": [
      "Acuracia do modelo GaussianNB() do Fold 0: 0.4105691056910569\n",
      "Acuracia do modelo GaussianNB() do Fold 1: 0.39227642276422764\n",
      "Acuracia do modelo GaussianNB() do Fold 2: 0.4715447154471545\n",
      "Acuracia do modelo GaussianNB() do Fold 3: 0.4623217922606925\n",
      "Acuracia do modelo GaussianNB() do Fold 4: 0.45213849287169044\n",
      "Acuracia do modelo KNeighborsClassifier() do Fold 0: 0.2926829268292683\n",
      "Acuracia do modelo KNeighborsClassifier() do Fold 1: 0.2784552845528455\n",
      "Acuracia do modelo KNeighborsClassifier() do Fold 2: 0.3130081300813008\n",
      "Acuracia do modelo KNeighborsClassifier() do Fold 3: 0.3014256619144603\n",
      "Acuracia do modelo KNeighborsClassifier() do Fold 4: 0.3095723014256619\n",
      "Acuracia do modelo DecisionTreeClassifier() do Fold 0: 0.33739837398373984\n",
      "Acuracia do modelo DecisionTreeClassifier() do Fold 1: 0.3516260162601626\n",
      "Acuracia do modelo DecisionTreeClassifier() do Fold 2: 0.3780487804878049\n",
      "Acuracia do modelo DecisionTreeClassifier() do Fold 3: 0.3380855397148676\n",
      "Acuracia do modelo DecisionTreeClassifier() do Fold 4: 0.34012219959266804\n",
      "Acuracia do modelo RandomForestClassifier() do Fold 0: 0.5060975609756098\n",
      "Acuracia do modelo RandomForestClassifier() do Fold 1: 0.5264227642276422\n",
      "Acuracia do modelo RandomForestClassifier() do Fold 2: 0.532520325203252\n",
      "Acuracia do modelo RandomForestClassifier() do Fold 3: 0.5193482688391039\n",
      "Acuracia do modelo RandomForestClassifier() do Fold 4: 0.5274949083503055\n",
      "Acuracia do modelo HistGradientBoostingClassifier() do Fold 0: 0.5020325203252033\n",
      "Acuracia do modelo HistGradientBoostingClassifier() do Fold 1: 0.5487804878048781\n",
      "Acuracia do modelo HistGradientBoostingClassifier() do Fold 2: 0.540650406504065\n",
      "Acuracia do modelo HistGradientBoostingClassifier() do Fold 3: 0.5417515274949084\n",
      "Acuracia do modelo HistGradientBoostingClassifier() do Fold 4: 0.5315682281059063\n",
      "Acuracia do modelo LGBMClassifier() do Fold 0: 0.5264227642276422\n",
      "Acuracia do modelo LGBMClassifier() do Fold 1: 0.5508130081300813\n",
      "Acuracia do modelo LGBMClassifier() do Fold 2: 0.5508130081300813\n",
      "Acuracia do modelo LGBMClassifier() do Fold 3: 0.5315682281059063\n",
      "Acuracia do modelo LGBMClassifier() do Fold 4: 0.5417515274949084\n",
      "Acuracia do modelo MLPClassifier() do Fold 0: 0.33739837398373984\n",
      "Acuracia do modelo MLPClassifier() do Fold 1: 0.27235772357723576\n",
      "Acuracia do modelo MLPClassifier() do Fold 2: 0.2764227642276423\n",
      "Acuracia do modelo MLPClassifier() do Fold 3: 0.3095723014256619\n",
      "Acuracia do modelo MLPClassifier() do Fold 4: 0.31568228105906315\n",
      "Acuracia do modelo XGBClassifier(base_score=0.5, booster='gbtree', callbacks=None,\n",
      "              colsample_bylevel=1, colsample_bynode=1, colsample_bytree=1,\n",
      "              early_stopping_rounds=None, enable_categorical=False,\n",
      "              eval_metric=None, gamma=0, gpu_id=-1, grow_policy='depthwise',\n",
      "              importance_type=None, interaction_constraints='',\n",
      "              learning_rate=0.300000012, max_bin=256, max_cat_to_onehot=4,\n",
      "              max_delta_step=0, max_depth=6, max_leaves=0, min_child_weight=1,\n",
      "              missing=nan, monotone_constraints='()', n_estimators=100,\n",
      "              n_jobs=0, num_parallel_tree=1, objective='multi:softprob',\n",
      "              predictor='auto', random_state=0, reg_alpha=0, ...) do Fold 0: 0.4898373983739837\n",
      "Acuracia do modelo XGBClassifier(base_score=0.5, booster='gbtree', callbacks=None,\n",
      "              colsample_bylevel=1, colsample_bynode=1, colsample_bytree=1,\n",
      "              early_stopping_rounds=None, enable_categorical=False,\n",
      "              eval_metric=None, gamma=0, gpu_id=-1, grow_policy='depthwise',\n",
      "              importance_type=None, interaction_constraints='',\n",
      "              learning_rate=0.300000012, max_bin=256, max_cat_to_onehot=4,\n",
      "              max_delta_step=0, max_depth=6, max_leaves=0, min_child_weight=1,\n",
      "              missing=nan, monotone_constraints='()', n_estimators=100,\n",
      "              n_jobs=0, num_parallel_tree=1, objective='multi:softprob',\n",
      "              predictor='auto', random_state=0, reg_alpha=0, ...) do Fold 1: 0.5630081300813008\n",
      "Acuracia do modelo XGBClassifier(base_score=0.5, booster='gbtree', callbacks=None,\n",
      "              colsample_bylevel=1, colsample_bynode=1, colsample_bytree=1,\n",
      "              early_stopping_rounds=None, enable_categorical=False,\n",
      "              eval_metric=None, gamma=0, gpu_id=-1, grow_policy='depthwise',\n",
      "              importance_type=None, interaction_constraints='',\n",
      "              learning_rate=0.300000012, max_bin=256, max_cat_to_onehot=4,\n",
      "              max_delta_step=0, max_depth=6, max_leaves=0, min_child_weight=1,\n",
      "              missing=nan, monotone_constraints='()', n_estimators=100,\n",
      "              n_jobs=0, num_parallel_tree=1, objective='multi:softprob',\n",
      "              predictor='auto', random_state=0, reg_alpha=0, ...) do Fold 2: 0.5447154471544715\n",
      "Acuracia do modelo XGBClassifier(base_score=0.5, booster='gbtree', callbacks=None,\n",
      "              colsample_bylevel=1, colsample_bynode=1, colsample_bytree=1,\n",
      "              early_stopping_rounds=None, enable_categorical=False,\n",
      "              eval_metric=None, gamma=0, gpu_id=-1, grow_policy='depthwise',\n",
      "              importance_type=None, interaction_constraints='',\n",
      "              learning_rate=0.300000012, max_bin=256, max_cat_to_onehot=4,\n",
      "              max_delta_step=0, max_depth=6, max_leaves=0, min_child_weight=1,\n",
      "              missing=nan, monotone_constraints='()', n_estimators=100,\n",
      "              n_jobs=0, num_parallel_tree=1, objective='multi:softprob',\n",
      "              predictor='auto', random_state=0, reg_alpha=0, ...) do Fold 3: 0.5213849287169042\n",
      "Acuracia do modelo XGBClassifier(base_score=0.5, booster='gbtree', callbacks=None,\n",
      "              colsample_bylevel=1, colsample_bynode=1, colsample_bytree=1,\n",
      "              early_stopping_rounds=None, enable_categorical=False,\n",
      "              eval_metric=None, gamma=0, gpu_id=-1, grow_policy='depthwise',\n",
      "              importance_type=None, interaction_constraints='',\n",
      "              learning_rate=0.300000012, max_bin=256, max_cat_to_onehot=4,\n",
      "              max_delta_step=0, max_depth=6, max_leaves=0, min_child_weight=1,\n",
      "              missing=nan, monotone_constraints='()', n_estimators=100,\n",
      "              n_jobs=0, num_parallel_tree=1, objective='multi:softprob',\n",
      "              predictor='auto', random_state=0, reg_alpha=0, ...) do Fold 4: 0.5336048879837068\n",
      "Acuracia do modelo SVC() do Fold 0: 0.3638211382113821\n",
      "Acuracia do modelo SVC() do Fold 1: 0.3516260162601626\n",
      "Acuracia do modelo SVC() do Fold 2: 0.37601626016260165\n",
      "Acuracia do modelo SVC() do Fold 3: 0.3340122199592668\n",
      "Acuracia do modelo SVC() do Fold 4: 0.37067209775967414\n"
     ]
    },
    {
     "data": {
      "text/plain": [
       "{'Naive Bayes': 0.43777010580696435,\n",
       " 'KNN': 0.29902886096070735,\n",
       " 'Arvore de Decisão': 0.34905618200784855,\n",
       " 'Floresta Aleatoria': 0.5223767655191827,\n",
       " 'HistGradientBoosting': 0.5329566340469921,\n",
       " 'LIGHTGBM': 0.5402737072177238,\n",
       " 'MLP': 0.3022866888546686,\n",
       " 'XGB': 0.5305101584620735,\n",
       " 'SVC': 0.3592295464706175}"
      ]
     },
     "execution_count": 6,
     "metadata": {},
     "output_type": "execute_result"
    }
   ],
   "source": [
    "train_models(remove_outilers(df_inst_corda.drop(columns=['instrumento'])))"
   ]
  },
  {
   "cell_type": "markdown",
   "metadata": {},
   "source": [
    "- Instrumento percusão"
   ]
  },
  {
   "cell_type": "code",
   "execution_count": 7,
   "metadata": {},
   "outputs": [
    {
     "name": "stdout",
     "output_type": "stream",
     "text": [
      "Acuracia do modelo GaussianNB() do Fold 0: 0.6832740213523132\n",
      "Acuracia do modelo GaussianNB() do Fold 1: 0.6654804270462633\n",
      "Acuracia do modelo GaussianNB() do Fold 2: 0.6571428571428571\n",
      "Acuracia do modelo GaussianNB() do Fold 3: 0.7071428571428572\n",
      "Acuracia do modelo GaussianNB() do Fold 4: 0.6857142857142857\n",
      "Acuracia do modelo KNeighborsClassifier() do Fold 0: 0.5480427046263345\n",
      "Acuracia do modelo KNeighborsClassifier() do Fold 1: 0.5302491103202847\n",
      "Acuracia do modelo KNeighborsClassifier() do Fold 2: 0.5071428571428571\n",
      "Acuracia do modelo KNeighborsClassifier() do Fold 3: 0.5607142857142857\n",
      "Acuracia do modelo KNeighborsClassifier() do Fold 4: 0.5571428571428572\n",
      "Acuracia do modelo DecisionTreeClassifier() do Fold 0: 0.6120996441281139\n",
      "Acuracia do modelo DecisionTreeClassifier() do Fold 1: 0.5836298932384342\n",
      "Acuracia do modelo DecisionTreeClassifier() do Fold 2: 0.6214285714285714\n",
      "Acuracia do modelo DecisionTreeClassifier() do Fold 3: 0.6571428571428571\n",
      "Acuracia do modelo DecisionTreeClassifier() do Fold 4: 0.6535714285714286\n",
      "Acuracia do modelo RandomForestClassifier() do Fold 0: 0.7508896797153025\n",
      "Acuracia do modelo RandomForestClassifier() do Fold 1: 0.7117437722419929\n",
      "Acuracia do modelo RandomForestClassifier() do Fold 2: 0.7\n",
      "Acuracia do modelo RandomForestClassifier() do Fold 3: 0.775\n",
      "Acuracia do modelo RandomForestClassifier() do Fold 4: 0.7392857142857143\n",
      "Acuracia do modelo HistGradientBoostingClassifier() do Fold 0: 0.7188612099644128\n",
      "Acuracia do modelo HistGradientBoostingClassifier() do Fold 1: 0.7153024911032029\n",
      "Acuracia do modelo HistGradientBoostingClassifier() do Fold 2: 0.7607142857142857\n",
      "Acuracia do modelo HistGradientBoostingClassifier() do Fold 3: 0.775\n",
      "Acuracia do modelo HistGradientBoostingClassifier() do Fold 4: 0.7642857142857142\n",
      "Acuracia do modelo LGBMClassifier() do Fold 0: 0.7188612099644128\n",
      "Acuracia do modelo LGBMClassifier() do Fold 1: 0.697508896797153\n",
      "Acuracia do modelo LGBMClassifier() do Fold 2: 0.7678571428571429\n",
      "Acuracia do modelo LGBMClassifier() do Fold 3: 0.7714285714285715\n",
      "Acuracia do modelo LGBMClassifier() do Fold 4: 0.7642857142857142\n",
      "Acuracia do modelo MLPClassifier() do Fold 0: 0.501779359430605\n",
      "Acuracia do modelo MLPClassifier() do Fold 1: 0.5373665480427047\n",
      "Acuracia do modelo MLPClassifier() do Fold 2: 0.5464285714285714\n",
      "Acuracia do modelo MLPClassifier() do Fold 3: 0.5714285714285714\n",
      "Acuracia do modelo MLPClassifier() do Fold 4: 0.42142857142857143\n",
      "Acuracia do modelo XGBClassifier(base_score=0.5, booster='gbtree', callbacks=None,\n",
      "              colsample_bylevel=1, colsample_bynode=1, colsample_bytree=1,\n",
      "              early_stopping_rounds=None, enable_categorical=False,\n",
      "              eval_metric=None, gamma=0, gpu_id=-1, grow_policy='depthwise',\n",
      "              importance_type=None, interaction_constraints='',\n",
      "              learning_rate=0.300000012, max_bin=256, max_cat_to_onehot=4,\n",
      "              max_delta_step=0, max_depth=6, max_leaves=0, min_child_weight=1,\n",
      "              missing=nan, monotone_constraints='()', n_estimators=100,\n",
      "              n_jobs=0, num_parallel_tree=1, objective='multi:softprob',\n",
      "              predictor='auto', random_state=0, reg_alpha=0, ...) do Fold 0: 0.7224199288256228\n",
      "Acuracia do modelo XGBClassifier(base_score=0.5, booster='gbtree', callbacks=None,\n",
      "              colsample_bylevel=1, colsample_bynode=1, colsample_bytree=1,\n",
      "              early_stopping_rounds=None, enable_categorical=False,\n",
      "              eval_metric=None, gamma=0, gpu_id=-1, grow_policy='depthwise',\n",
      "              importance_type=None, interaction_constraints='',\n",
      "              learning_rate=0.300000012, max_bin=256, max_cat_to_onehot=4,\n",
      "              max_delta_step=0, max_depth=6, max_leaves=0, min_child_weight=1,\n",
      "              missing=nan, monotone_constraints='()', n_estimators=100,\n",
      "              n_jobs=0, num_parallel_tree=1, objective='multi:softprob',\n",
      "              predictor='auto', random_state=0, reg_alpha=0, ...) do Fold 1: 0.6868327402135231\n",
      "Acuracia do modelo XGBClassifier(base_score=0.5, booster='gbtree', callbacks=None,\n",
      "              colsample_bylevel=1, colsample_bynode=1, colsample_bytree=1,\n",
      "              early_stopping_rounds=None, enable_categorical=False,\n",
      "              eval_metric=None, gamma=0, gpu_id=-1, grow_policy='depthwise',\n",
      "              importance_type=None, interaction_constraints='',\n",
      "              learning_rate=0.300000012, max_bin=256, max_cat_to_onehot=4,\n",
      "              max_delta_step=0, max_depth=6, max_leaves=0, min_child_weight=1,\n",
      "              missing=nan, monotone_constraints='()', n_estimators=100,\n",
      "              n_jobs=0, num_parallel_tree=1, objective='multi:softprob',\n",
      "              predictor='auto', random_state=0, reg_alpha=0, ...) do Fold 2: 0.7642857142857142\n",
      "Acuracia do modelo XGBClassifier(base_score=0.5, booster='gbtree', callbacks=None,\n",
      "              colsample_bylevel=1, colsample_bynode=1, colsample_bytree=1,\n",
      "              early_stopping_rounds=None, enable_categorical=False,\n",
      "              eval_metric=None, gamma=0, gpu_id=-1, grow_policy='depthwise',\n",
      "              importance_type=None, interaction_constraints='',\n",
      "              learning_rate=0.300000012, max_bin=256, max_cat_to_onehot=4,\n",
      "              max_delta_step=0, max_depth=6, max_leaves=0, min_child_weight=1,\n",
      "              missing=nan, monotone_constraints='()', n_estimators=100,\n",
      "              n_jobs=0, num_parallel_tree=1, objective='multi:softprob',\n",
      "              predictor='auto', random_state=0, reg_alpha=0, ...) do Fold 3: 0.7857142857142857\n",
      "Acuracia do modelo XGBClassifier(base_score=0.5, booster='gbtree', callbacks=None,\n",
      "              colsample_bylevel=1, colsample_bynode=1, colsample_bytree=1,\n",
      "              early_stopping_rounds=None, enable_categorical=False,\n",
      "              eval_metric=None, gamma=0, gpu_id=-1, grow_policy='depthwise',\n",
      "              importance_type=None, interaction_constraints='',\n",
      "              learning_rate=0.300000012, max_bin=256, max_cat_to_onehot=4,\n",
      "              max_delta_step=0, max_depth=6, max_leaves=0, min_child_weight=1,\n",
      "              missing=nan, monotone_constraints='()', n_estimators=100,\n",
      "              n_jobs=0, num_parallel_tree=1, objective='multi:softprob',\n",
      "              predictor='auto', random_state=0, reg_alpha=0, ...) do Fold 4: 0.7607142857142857\n",
      "Acuracia do modelo SVC() do Fold 0: 0.5444839857651246\n",
      "Acuracia do modelo SVC() do Fold 1: 0.5658362989323843\n",
      "Acuracia do modelo SVC() do Fold 2: 0.5857142857142857\n",
      "Acuracia do modelo SVC() do Fold 3: 0.5857142857142857\n",
      "Acuracia do modelo SVC() do Fold 4: 0.5714285714285714\n"
     ]
    },
    {
     "data": {
      "text/plain": [
       "{'Naive Bayes': 0.6797508896797153,\n",
       " 'KNN': 0.5406583629893238,\n",
       " 'Arvore de Decisão': 0.625574478901881,\n",
       " 'Floresta Aleatoria': 0.7353838332486019,\n",
       " 'HistGradientBoosting': 0.7468327402135231,\n",
       " 'LIGHTGBM': 0.7439883070665989,\n",
       " 'MLP': 0.5156863243518047,\n",
       " 'XGB': 0.7439933909506863,\n",
       " 'SVC': 0.5706354855109304}"
      ]
     },
     "execution_count": 7,
     "metadata": {},
     "output_type": "execute_result"
    }
   ],
   "source": [
    "train_models(remove_outilers(df_inst_percusao.drop(columns=['instrumento'])))"
   ]
  },
  {
   "cell_type": "markdown",
   "metadata": {},
   "source": [
    "- Instrumento de Sopro"
   ]
  },
  {
   "cell_type": "code",
   "execution_count": 8,
   "metadata": {},
   "outputs": [
    {
     "name": "stdout",
     "output_type": "stream",
     "text": [
      "Acuracia do modelo GaussianNB() do Fold 0: 0.5379310344827586\n",
      "Acuracia do modelo GaussianNB() do Fold 1: 0.6448275862068965\n",
      "Acuracia do modelo GaussianNB() do Fold 2: 0.596551724137931\n",
      "Acuracia do modelo GaussianNB() do Fold 3: 0.5847750865051903\n",
      "Acuracia do modelo GaussianNB() do Fold 4: 0.6332179930795848\n",
      "Acuracia do modelo KNeighborsClassifier() do Fold 0: 0.4517241379310345\n",
      "Acuracia do modelo KNeighborsClassifier() do Fold 1: 0.4862068965517241\n",
      "Acuracia do modelo KNeighborsClassifier() do Fold 2: 0.5\n",
      "Acuracia do modelo KNeighborsClassifier() do Fold 3: 0.47750865051903113\n",
      "Acuracia do modelo KNeighborsClassifier() do Fold 4: 0.5363321799307958\n",
      "Acuracia do modelo DecisionTreeClassifier() do Fold 0: 0.5344827586206896\n",
      "Acuracia do modelo DecisionTreeClassifier() do Fold 1: 0.5379310344827586\n",
      "Acuracia do modelo DecisionTreeClassifier() do Fold 2: 0.5551724137931034\n",
      "Acuracia do modelo DecisionTreeClassifier() do Fold 3: 0.5467128027681661\n",
      "Acuracia do modelo DecisionTreeClassifier() do Fold 4: 0.5847750865051903\n",
      "Acuracia do modelo RandomForestClassifier() do Fold 0: 0.7068965517241379\n",
      "Acuracia do modelo RandomForestClassifier() do Fold 1: 0.7137931034482758\n",
      "Acuracia do modelo RandomForestClassifier() do Fold 2: 0.7103448275862069\n",
      "Acuracia do modelo RandomForestClassifier() do Fold 3: 0.6678200692041523\n",
      "Acuracia do modelo RandomForestClassifier() do Fold 4: 0.754325259515571\n"
     ]
    }
   ],
   "source": [
    "train_models(remove_outilers(df_inst_sopro.drop(columns=['instrumento'])))"
   ]
  },
  {
   "cell_type": "markdown",
   "metadata": {},
   "source": [
    "- Instrumento Aerofones"
   ]
  },
  {
   "cell_type": "code",
   "execution_count": null,
   "metadata": {},
   "outputs": [],
   "source": [
    "train_models(remove_outilers(df_inst_aerofone.drop(columns=['instrumento'])))"
   ]
  },
  {
   "cell_type": "markdown",
   "metadata": {},
   "source": [
    "# Correlação de -0.5 a 0.5"
   ]
  },
  {
   "cell_type": "markdown",
   "metadata": {},
   "source": [
    "- Toda a base menos os instrumentos de corda"
   ]
  },
  {
   "cell_type": "code",
   "execution_count": null,
   "metadata": {},
   "outputs": [],
   "source": [
    "df_aux = features_corr(new_df, -0.5, 0.5).drop(columns=['instrumento'])\n",
    "train_models(df_aux)"
   ]
  },
  {
   "cell_type": "markdown",
   "metadata": {},
   "source": [
    "- Percusão"
   ]
  },
  {
   "cell_type": "code",
   "execution_count": null,
   "metadata": {},
   "outputs": [],
   "source": [
    "df_aux = features_corr(df_inst_percusao, -0.5, 0.5).drop(columns=['instrumento'])\n",
    "train_models(df_aux)"
   ]
  },
  {
   "cell_type": "markdown",
   "metadata": {},
   "source": [
    "- Sopro"
   ]
  },
  {
   "cell_type": "code",
   "execution_count": null,
   "metadata": {},
   "outputs": [],
   "source": [
    "df_aux = features_corr(df_inst_sopro, -0.5, 0.5).drop(columns=['instrumento'])\n",
    "train_models(df_aux)"
   ]
  },
  {
   "cell_type": "markdown",
   "metadata": {},
   "source": [
    "- Aerofones"
   ]
  },
  {
   "cell_type": "code",
   "execution_count": null,
   "metadata": {},
   "outputs": [],
   "source": [
    "df_aux = features_corr(df_inst_aerofone, -0.5, 0.5).drop(columns=['instrumento'])\n",
    "train_models(df_aux)"
   ]
  }
 ],
 "metadata": {
  "kernelspec": {
   "display_name": "Python 3.9.0 ('.venv': poetry)",
   "language": "python",
   "name": "python3"
  },
  "language_info": {
   "codemirror_mode": {
    "name": "ipython",
    "version": 3
   },
   "file_extension": ".py",
   "mimetype": "text/x-python",
   "name": "python",
   "nbconvert_exporter": "python",
   "pygments_lexer": "ipython3",
   "version": "3.9.0"
  },
  "orig_nbformat": 4,
  "vscode": {
   "interpreter": {
    "hash": "d0cd7a577fc06c35e185d01be0cfbddf373ad80e2bd1d70dc00997e153ef8afb"
   }
  }
 },
 "nbformat": 4,
 "nbformat_minor": 2
}
