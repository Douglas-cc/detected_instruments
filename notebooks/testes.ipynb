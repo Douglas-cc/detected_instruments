{
 "cells": [
  {
   "cell_type": "code",
   "execution_count": 1,
   "metadata": {},
   "outputs": [],
   "source": [
    "import warnings\n",
    "warnings.filterwarnings('ignore')\n",
    "\n",
    "import numpy as np\n",
    "import pandas as pd \n",
    "import matplotlib.pyplot as plt                \n",
    "from sklearn.preprocessing import LabelEncoder\n",
    "from src.wrapped import Wrapped\n",
    "from src.analyses import *"
   ]
  },
  {
   "attachments": {},
   "cell_type": "markdown",
   "metadata": {},
   "source": [
    "# Importando dados para treinamento"
   ]
  },
  {
   "cell_type": "code",
   "execution_count": 2,
   "metadata": {},
   "outputs": [],
   "source": [
    "wp = Wrapped(\n",
    "    '../data/row/',\n",
    "    '../data/processed/',\n",
    "    '../data/files/'\n",
    ")\n",
    "\n",
    "# dataframe\n",
    "df = wp.load_data('df_instrumentos_features_selecionadas').drop(columns=['file_name'])\n",
    "df = df.query(\"instrumento != 'voice' & instrumento != 'synthesizer'\")\n",
    "\n",
    "# dataframes por instrumentos\n",
    "inst_corda    = [\"cello\", \"guitar\", \"violin\", \"bass\", \"banjo\", \"mandolin\", \"ukulele\"]\n",
    "inst_percusao = [\"mallet_percussion\", \"drums\", \"cymbals\"]\n",
    "inst_sopro    = [\"clarinet\", \"trombone\", \"flute\", \"trumpet\", \"saxophone\"]\n",
    "inst_aerofone = [\"accordion\", \"organ\", \"piano\"] \n",
    "\n",
    "df_inst_aerofone = df[df['instrumento'].isin(inst_aerofone)]\n",
    "df_inst_sopro    = df[df['instrumento'].isin(inst_sopro)]\n",
    "df_inst_corda    = df[df['instrumento'].isin(inst_corda)]\n",
    "df_inst_percusao = df[df['instrumento'].isin(inst_percusao)]"
   ]
  },
  {
   "attachments": {},
   "cell_type": "markdown",
   "metadata": {},
   "source": [
    "# Pre-processamento\n",
    "\n",
    "- Label Encoder"
   ]
  },
  {
   "cell_type": "code",
   "execution_count": 3,
   "metadata": {},
   "outputs": [],
   "source": [
    "le = LabelEncoder()\n",
    "\n",
    "df_inst_aerofone['labels'] = le.fit_transform(df_inst_aerofone.instrumento)\n",
    "df_inst_sopro['labels']    = le.fit_transform(df_inst_sopro.instrumento)\n",
    "df_inst_corda['labels']    = le.fit_transform(df_inst_corda.instrumento)\n",
    "df_inst_percusao['labels'] = le.fit_transform(df_inst_percusao.instrumento)"
   ]
  },
  {
   "cell_type": "code",
   "execution_count": 4,
   "metadata": {},
   "outputs": [],
   "source": [
    "# tunning_hyperparameters_knn(\n",
    "#     dataframe=df_inst_aerofone,\n",
    "#     neighbors = [3, 5, 7, 9, 11],\n",
    "#     algorithm=['auto', 'ball_tree', 'kd_tree', 'brute'],\n",
    "#     metric=['euclidean', 'manhattan', 'minkowski'],\n",
    "# )"
   ]
  },
  {
   "attachments": {},
   "cell_type": "markdown",
   "metadata": {},
   "source": [
    "# Analise de Anomalias"
   ]
  },
  {
   "attachments": {},
   "cell_type": "markdown",
   "metadata": {},
   "source": [
    "- Anotações"
   ]
  },
  {
   "attachments": {},
   "cell_type": "markdown",
   "metadata": {},
   "source": [
    "A detecção de outliers (também conhecida como detecção de anomalias) é o processo de localização de objetos de dados com comportamentos muito diferentes do esperado. Esses objetos são chamados de outliers ou anomalias"
   ]
  },
  {
   "cell_type": "markdown",
   "metadata": {},
   "source": [
    "análise de anomalias e a análise de agrupamento podem ser as mesmas coisas. Eles estão intimamente relacionados, de fato, mas não são os mesmos! Eles variam em termos de seus propósitos. Enquanto a análise de cluster permite agrupar pontos de dados semelhantes, a análise de anomalias permite descobrir os ímpares entre um conjunto de pontos de dados."
   ]
  },
  {
   "attachments": {},
   "cell_type": "markdown",
   "metadata": {},
   "source": [
    "Quando sabemos que nosso conjunto de dados consiste em um ponto de dados estranho, apenas seguir a precisão da classificação não é correto. A precisão da classificação refere-se à porcentagem de previsões corretas feitas pelo modelo."
   ]
  },
  {
   "attachments": {},
   "cell_type": "markdown",
   "metadata": {},
   "source": [
    " Assim, em um nível muito alto, a tarefa passa a ser treinar um modelo de aprendizado de máquina para identificar especificamente anomalias e, posteriormente, o modelo pode ser incorporado a um pipeline mais amplo de automação.\n",
    " "
   ]
  },
  {
   "cell_type": "code",
   "execution_count": 5,
   "metadata": {},
   "outputs": [],
   "source": [
    "from src.analysesV02 import Analytics "
   ]
  },
  {
   "cell_type": "code",
   "execution_count": 6,
   "metadata": {},
   "outputs": [],
   "source": [
    "ac = Analytics()"
   ]
  },
  {
   "cell_type": "code",
   "execution_count": 8,
   "metadata": {},
   "outputs": [
    {
     "data": {
      "text/plain": [
       "array([0, 0, 0, ..., 0, 0, 0])"
      ]
     },
     "execution_count": 8,
     "metadata": {},
     "output_type": "execute_result"
    }
   ],
   "source": [
    "ac.detected_outilers_knn(\n",
    "    dataframe=df_inst_aerofone,\n",
    "    neighbors = 5,\n",
    "    algorithm='auto',\n",
    "    metric='euclidean',\n",
    ")"
   ]
  },
  {
   "cell_type": "code",
   "execution_count": null,
   "metadata": {},
   "outputs": [],
   "source": []
  }
 ],
 "metadata": {
  "kernelspec": {
   "display_name": ".venv",
   "language": "python",
   "name": "python3"
  },
  "language_info": {
   "codemirror_mode": {
    "name": "ipython",
    "version": 3
   },
   "file_extension": ".py",
   "mimetype": "text/x-python",
   "name": "python",
   "nbconvert_exporter": "python",
   "pygments_lexer": "ipython3",
   "version": "3.9.0"
  },
  "orig_nbformat": 4,
  "vscode": {
   "interpreter": {
    "hash": "d0cd7a577fc06c35e185d01be0cfbddf373ad80e2bd1d70dc00997e153ef8afb"
   }
  }
 },
 "nbformat": 4,
 "nbformat_minor": 2
}
