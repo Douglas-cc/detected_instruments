{
 "cells": [
  {
   "cell_type": "code",
   "execution_count": 2,
   "metadata": {},
   "outputs": [],
   "source": [
    "SCRIPT_DIR = os.path.dirname('../src/')\n",
    "sys.path.append(os.path.dirname(SCRIPT_DIR))"
   ]
  },
  {
   "cell_type": "code",
   "execution_count": 5,
   "metadata": {},
   "outputs": [],
   "source": [
    "import warnings\n",
    "import numpy as np\n",
    "import pandas as pd \n",
    "\n",
    "import seaborn as sns\n",
    "import matplotlib.pyplot as plt\n",
    "from yellowbrick.cluster import KElbowVisualizer\n",
    "\n",
    "from sklearn.preprocessing import LabelEncoder, MinMaxScaler\n",
    "from imblearn.over_sampling import SMOTE\n",
    "from sklearn.utils import  class_weight\n",
    "\n",
    "from sklearn.neighbors import KNeighborsClassifier\n",
    "from sklearn.tree import DecisionTreeClassifier\n",
    "from sklearn.ensemble import RandomForestClassifier\n",
    "from sklearn.linear_model import LogisticRegression\n",
    "from xgboost import XGBClassifier\n",
    "from lightgbm import LGBMClassifier\n",
    "from sklearn.neural_network import MLPClassifier\n",
    "from sklearn.cluster import KMeans, AgglomerativeClustering, DBSCAN\n",
    "\n",
    "from sklearn.model_selection import train_test_split\n",
    "from sklearn.metrics import accuracy_score\n",
    "\n",
    "from src.wrapped import Wrapped"
   ]
  },
  {
   "cell_type": "code",
   "execution_count": 6,
   "metadata": {},
   "outputs": [],
   "source": [
    "warnings.filterwarnings(\"ignore\")\n",
    "\n",
    "wp = Wrapped(\n",
    "    '../data/row/',\n",
    "    '../data/processed/',\n",
    "    '../data/files/'\n",
    ")"
   ]
  },
  {
   "cell_type": "markdown",
   "metadata": {},
   "source": [
    "# Importando dados para treinamento"
   ]
  },
  {
   "cell_type": "code",
   "execution_count": 7,
   "metadata": {},
   "outputs": [
    {
     "data": {
      "text/html": [
       "<div>\n",
       "<style scoped>\n",
       "    .dataframe tbody tr th:only-of-type {\n",
       "        vertical-align: middle;\n",
       "    }\n",
       "\n",
       "    .dataframe tbody tr th {\n",
       "        vertical-align: top;\n",
       "    }\n",
       "\n",
       "    .dataframe thead th {\n",
       "        text-align: right;\n",
       "    }\n",
       "</style>\n",
       "<table border=\"1\" class=\"dataframe\">\n",
       "  <thead>\n",
       "    <tr style=\"text-align: right;\">\n",
       "      <th></th>\n",
       "      <th>chroma1</th>\n",
       "      <th>chroma2</th>\n",
       "      <th>chroma3</th>\n",
       "      <th>chroma4</th>\n",
       "      <th>chroma5</th>\n",
       "      <th>chroma6</th>\n",
       "      <th>chroma7</th>\n",
       "      <th>chroma8</th>\n",
       "      <th>chroma9</th>\n",
       "      <th>chroma10</th>\n",
       "      <th>...</th>\n",
       "      <th>spectral_band4</th>\n",
       "      <th>spectral_centroid</th>\n",
       "      <th>spectral_onset</th>\n",
       "      <th>spectral_rolloff</th>\n",
       "      <th>spectogram</th>\n",
       "      <th>mel_spectogram</th>\n",
       "      <th>zero_crossing_rate</th>\n",
       "      <th>zero_crossing</th>\n",
       "      <th>instrumento</th>\n",
       "      <th>file_name</th>\n",
       "    </tr>\n",
       "  </thead>\n",
       "  <tbody>\n",
       "    <tr>\n",
       "      <th>0</th>\n",
       "      <td>0.513887</td>\n",
       "      <td>0.581963</td>\n",
       "      <td>0.434641</td>\n",
       "      <td>0.293949</td>\n",
       "      <td>0.317826</td>\n",
       "      <td>0.271148</td>\n",
       "      <td>0.548258</td>\n",
       "      <td>0.660767</td>\n",
       "      <td>0.349147</td>\n",
       "      <td>0.252198</td>\n",
       "      <td>...</td>\n",
       "      <td>3409.640722</td>\n",
       "      <td>2600.055158</td>\n",
       "      <td>1.098243</td>\n",
       "      <td>5260.821321</td>\n",
       "      <td>-44.640682</td>\n",
       "      <td>-30.202150</td>\n",
       "      <td>0.149672</td>\n",
       "      <td>33095</td>\n",
       "      <td>accordion</td>\n",
       "      <td>000139_119040.ogg</td>\n",
       "    </tr>\n",
       "    <tr>\n",
       "      <th>1</th>\n",
       "      <td>0.175587</td>\n",
       "      <td>0.429345</td>\n",
       "      <td>0.840043</td>\n",
       "      <td>0.384524</td>\n",
       "      <td>0.282545</td>\n",
       "      <td>0.346341</td>\n",
       "      <td>0.482365</td>\n",
       "      <td>0.321750</td>\n",
       "      <td>0.299794</td>\n",
       "      <td>0.450477</td>\n",
       "      <td>...</td>\n",
       "      <td>3516.595715</td>\n",
       "      <td>2385.271420</td>\n",
       "      <td>1.360742</td>\n",
       "      <td>5225.124166</td>\n",
       "      <td>-46.575737</td>\n",
       "      <td>-59.323132</td>\n",
       "      <td>0.112181</td>\n",
       "      <td>24785</td>\n",
       "      <td>accordion</td>\n",
       "      <td>000145_172800.ogg</td>\n",
       "    </tr>\n",
       "    <tr>\n",
       "      <th>2</th>\n",
       "      <td>0.453814</td>\n",
       "      <td>0.219808</td>\n",
       "      <td>0.228484</td>\n",
       "      <td>0.446050</td>\n",
       "      <td>0.178916</td>\n",
       "      <td>0.250981</td>\n",
       "      <td>0.327460</td>\n",
       "      <td>0.333150</td>\n",
       "      <td>0.089059</td>\n",
       "      <td>0.103378</td>\n",
       "      <td>...</td>\n",
       "      <td>3256.491175</td>\n",
       "      <td>2069.850731</td>\n",
       "      <td>1.343197</td>\n",
       "      <td>4287.155824</td>\n",
       "      <td>-56.276707</td>\n",
       "      <td>-71.512909</td>\n",
       "      <td>0.096007</td>\n",
       "      <td>21230</td>\n",
       "      <td>accordion</td>\n",
       "      <td>000201_168960.ogg</td>\n",
       "    </tr>\n",
       "    <tr>\n",
       "      <th>3</th>\n",
       "      <td>0.209729</td>\n",
       "      <td>0.338755</td>\n",
       "      <td>0.660264</td>\n",
       "      <td>0.256625</td>\n",
       "      <td>0.275209</td>\n",
       "      <td>0.180417</td>\n",
       "      <td>0.399448</td>\n",
       "      <td>0.381560</td>\n",
       "      <td>0.275192</td>\n",
       "      <td>0.380790</td>\n",
       "      <td>...</td>\n",
       "      <td>3855.791675</td>\n",
       "      <td>2903.979876</td>\n",
       "      <td>1.218963</td>\n",
       "      <td>6751.133809</td>\n",
       "      <td>-42.723160</td>\n",
       "      <td>-44.649315</td>\n",
       "      <td>0.144010</td>\n",
       "      <td>31836</td>\n",
       "      <td>accordion</td>\n",
       "      <td>000212_211200.ogg</td>\n",
       "    </tr>\n",
       "    <tr>\n",
       "      <th>4</th>\n",
       "      <td>0.484400</td>\n",
       "      <td>0.334572</td>\n",
       "      <td>0.441629</td>\n",
       "      <td>0.679485</td>\n",
       "      <td>0.382958</td>\n",
       "      <td>0.326033</td>\n",
       "      <td>0.205775</td>\n",
       "      <td>0.309727</td>\n",
       "      <td>0.388397</td>\n",
       "      <td>0.299227</td>\n",
       "      <td>...</td>\n",
       "      <td>2883.225952</td>\n",
       "      <td>1251.374287</td>\n",
       "      <td>1.339527</td>\n",
       "      <td>2263.034730</td>\n",
       "      <td>-62.227947</td>\n",
       "      <td>-78.196365</td>\n",
       "      <td>0.059804</td>\n",
       "      <td>13214</td>\n",
       "      <td>accordion</td>\n",
       "      <td>000640_49920.ogg</td>\n",
       "    </tr>\n",
       "    <tr>\n",
       "      <th>...</th>\n",
       "      <td>...</td>\n",
       "      <td>...</td>\n",
       "      <td>...</td>\n",
       "      <td>...</td>\n",
       "      <td>...</td>\n",
       "      <td>...</td>\n",
       "      <td>...</td>\n",
       "      <td>...</td>\n",
       "      <td>...</td>\n",
       "      <td>...</td>\n",
       "      <td>...</td>\n",
       "      <td>...</td>\n",
       "      <td>...</td>\n",
       "      <td>...</td>\n",
       "      <td>...</td>\n",
       "      <td>...</td>\n",
       "      <td>...</td>\n",
       "      <td>...</td>\n",
       "      <td>...</td>\n",
       "      <td>...</td>\n",
       "      <td>...</td>\n",
       "    </tr>\n",
       "    <tr>\n",
       "      <th>8471</th>\n",
       "      <td>0.332754</td>\n",
       "      <td>0.359639</td>\n",
       "      <td>0.473210</td>\n",
       "      <td>0.512169</td>\n",
       "      <td>0.607755</td>\n",
       "      <td>0.500391</td>\n",
       "      <td>0.378782</td>\n",
       "      <td>0.420053</td>\n",
       "      <td>0.423016</td>\n",
       "      <td>0.570144</td>\n",
       "      <td>...</td>\n",
       "      <td>3664.812127</td>\n",
       "      <td>3194.922838</td>\n",
       "      <td>1.253166</td>\n",
       "      <td>6714.437434</td>\n",
       "      <td>-53.587788</td>\n",
       "      <td>-76.614616</td>\n",
       "      <td>0.134979</td>\n",
       "      <td>29855</td>\n",
       "      <td>voice</td>\n",
       "      <td>153341_184320.ogg</td>\n",
       "    </tr>\n",
       "    <tr>\n",
       "      <th>8472</th>\n",
       "      <td>0.161793</td>\n",
       "      <td>0.190661</td>\n",
       "      <td>0.249882</td>\n",
       "      <td>0.378161</td>\n",
       "      <td>0.461520</td>\n",
       "      <td>0.332309</td>\n",
       "      <td>0.294171</td>\n",
       "      <td>0.251455</td>\n",
       "      <td>0.106215</td>\n",
       "      <td>0.089914</td>\n",
       "      <td>...</td>\n",
       "      <td>2879.597305</td>\n",
       "      <td>1351.326334</td>\n",
       "      <td>1.450944</td>\n",
       "      <td>2412.643029</td>\n",
       "      <td>-52.071827</td>\n",
       "      <td>-76.029976</td>\n",
       "      <td>0.061211</td>\n",
       "      <td>13533</td>\n",
       "      <td>voice</td>\n",
       "      <td>153412_134400.ogg</td>\n",
       "    </tr>\n",
       "    <tr>\n",
       "      <th>8473</th>\n",
       "      <td>0.589552</td>\n",
       "      <td>0.309548</td>\n",
       "      <td>0.187583</td>\n",
       "      <td>0.169132</td>\n",
       "      <td>0.240637</td>\n",
       "      <td>0.332375</td>\n",
       "      <td>0.333517</td>\n",
       "      <td>0.585136</td>\n",
       "      <td>0.280368</td>\n",
       "      <td>0.236353</td>\n",
       "      <td>...</td>\n",
       "      <td>3274.875402</td>\n",
       "      <td>2685.831528</td>\n",
       "      <td>1.274003</td>\n",
       "      <td>4614.225695</td>\n",
       "      <td>-66.120743</td>\n",
       "      <td>-80.000000</td>\n",
       "      <td>0.157649</td>\n",
       "      <td>34869</td>\n",
       "      <td>voice</td>\n",
       "      <td>153478_30720.ogg</td>\n",
       "    </tr>\n",
       "    <tr>\n",
       "      <th>8474</th>\n",
       "      <td>0.615495</td>\n",
       "      <td>0.541314</td>\n",
       "      <td>0.467334</td>\n",
       "      <td>0.611199</td>\n",
       "      <td>0.791296</td>\n",
       "      <td>0.678383</td>\n",
       "      <td>0.508162</td>\n",
       "      <td>0.543337</td>\n",
       "      <td>0.463837</td>\n",
       "      <td>0.352893</td>\n",
       "      <td>...</td>\n",
       "      <td>3376.494191</td>\n",
       "      <td>1428.726581</td>\n",
       "      <td>1.081204</td>\n",
       "      <td>3358.205447</td>\n",
       "      <td>-30.260586</td>\n",
       "      <td>-13.068514</td>\n",
       "      <td>0.032283</td>\n",
       "      <td>7136</td>\n",
       "      <td>voice</td>\n",
       "      <td>153986_203520.ogg</td>\n",
       "    </tr>\n",
       "    <tr>\n",
       "      <th>8475</th>\n",
       "      <td>0.521300</td>\n",
       "      <td>0.480413</td>\n",
       "      <td>0.476578</td>\n",
       "      <td>0.401069</td>\n",
       "      <td>0.410142</td>\n",
       "      <td>0.557736</td>\n",
       "      <td>0.489720</td>\n",
       "      <td>0.556477</td>\n",
       "      <td>0.567720</td>\n",
       "      <td>0.455893</td>\n",
       "      <td>...</td>\n",
       "      <td>3312.821056</td>\n",
       "      <td>1878.014001</td>\n",
       "      <td>1.031024</td>\n",
       "      <td>3887.392657</td>\n",
       "      <td>-41.159359</td>\n",
       "      <td>-43.333565</td>\n",
       "      <td>0.084145</td>\n",
       "      <td>18609</td>\n",
       "      <td>voice</td>\n",
       "      <td>154172_299520.ogg</td>\n",
       "    </tr>\n",
       "  </tbody>\n",
       "</table>\n",
       "<p>8476 rows × 32 columns</p>\n",
       "</div>"
      ],
      "text/plain": [
       "       chroma1   chroma2   chroma3   chroma4   chroma5   chroma6   chroma7  \\\n",
       "0     0.513887  0.581963  0.434641  0.293949  0.317826  0.271148  0.548258   \n",
       "1     0.175587  0.429345  0.840043  0.384524  0.282545  0.346341  0.482365   \n",
       "2     0.453814  0.219808  0.228484  0.446050  0.178916  0.250981  0.327460   \n",
       "3     0.209729  0.338755  0.660264  0.256625  0.275209  0.180417  0.399448   \n",
       "4     0.484400  0.334572  0.441629  0.679485  0.382958  0.326033  0.205775   \n",
       "...        ...       ...       ...       ...       ...       ...       ...   \n",
       "8471  0.332754  0.359639  0.473210  0.512169  0.607755  0.500391  0.378782   \n",
       "8472  0.161793  0.190661  0.249882  0.378161  0.461520  0.332309  0.294171   \n",
       "8473  0.589552  0.309548  0.187583  0.169132  0.240637  0.332375  0.333517   \n",
       "8474  0.615495  0.541314  0.467334  0.611199  0.791296  0.678383  0.508162   \n",
       "8475  0.521300  0.480413  0.476578  0.401069  0.410142  0.557736  0.489720   \n",
       "\n",
       "       chroma8   chroma9  chroma10  ...  spectral_band4  spectral_centroid  \\\n",
       "0     0.660767  0.349147  0.252198  ...     3409.640722        2600.055158   \n",
       "1     0.321750  0.299794  0.450477  ...     3516.595715        2385.271420   \n",
       "2     0.333150  0.089059  0.103378  ...     3256.491175        2069.850731   \n",
       "3     0.381560  0.275192  0.380790  ...     3855.791675        2903.979876   \n",
       "4     0.309727  0.388397  0.299227  ...     2883.225952        1251.374287   \n",
       "...        ...       ...       ...  ...             ...                ...   \n",
       "8471  0.420053  0.423016  0.570144  ...     3664.812127        3194.922838   \n",
       "8472  0.251455  0.106215  0.089914  ...     2879.597305        1351.326334   \n",
       "8473  0.585136  0.280368  0.236353  ...     3274.875402        2685.831528   \n",
       "8474  0.543337  0.463837  0.352893  ...     3376.494191        1428.726581   \n",
       "8475  0.556477  0.567720  0.455893  ...     3312.821056        1878.014001   \n",
       "\n",
       "      spectral_onset  spectral_rolloff  spectogram  mel_spectogram  \\\n",
       "0           1.098243       5260.821321  -44.640682      -30.202150   \n",
       "1           1.360742       5225.124166  -46.575737      -59.323132   \n",
       "2           1.343197       4287.155824  -56.276707      -71.512909   \n",
       "3           1.218963       6751.133809  -42.723160      -44.649315   \n",
       "4           1.339527       2263.034730  -62.227947      -78.196365   \n",
       "...              ...               ...         ...             ...   \n",
       "8471        1.253166       6714.437434  -53.587788      -76.614616   \n",
       "8472        1.450944       2412.643029  -52.071827      -76.029976   \n",
       "8473        1.274003       4614.225695  -66.120743      -80.000000   \n",
       "8474        1.081204       3358.205447  -30.260586      -13.068514   \n",
       "8475        1.031024       3887.392657  -41.159359      -43.333565   \n",
       "\n",
       "      zero_crossing_rate  zero_crossing  instrumento          file_name  \n",
       "0               0.149672          33095    accordion  000139_119040.ogg  \n",
       "1               0.112181          24785    accordion  000145_172800.ogg  \n",
       "2               0.096007          21230    accordion  000201_168960.ogg  \n",
       "3               0.144010          31836    accordion  000212_211200.ogg  \n",
       "4               0.059804          13214    accordion   000640_49920.ogg  \n",
       "...                  ...            ...          ...                ...  \n",
       "8471            0.134979          29855        voice  153341_184320.ogg  \n",
       "8472            0.061211          13533        voice  153412_134400.ogg  \n",
       "8473            0.157649          34869        voice   153478_30720.ogg  \n",
       "8474            0.032283           7136        voice  153986_203520.ogg  \n",
       "8475            0.084145          18609        voice  154172_299520.ogg  \n",
       "\n",
       "[8476 rows x 32 columns]"
      ]
     },
     "execution_count": 7,
     "metadata": {},
     "output_type": "execute_result"
    }
   ],
   "source": [
    "df = wp.load_data('df_instrumentos_features_selecionadas')\n",
    "df"
   ]
  },
  {
   "cell_type": "markdown",
   "metadata": {},
   "source": [
    "- Algumas informações"
   ]
  },
  {
   "cell_type": "code",
   "execution_count": 8,
   "metadata": {},
   "outputs": [
    {
     "name": "stdout",
     "output_type": "stream",
     "text": [
      "Dimensões do dataframe (8476, 32)\n",
      "Total de instrumentos na base original: 20\n"
     ]
    },
    {
     "data": {
      "text/plain": [
       "mallet_percussion    719\n",
       "flute                654\n",
       "piano                628\n",
       "organ                611\n",
       "saxophone            539\n",
       "accordion            511\n",
       "bass                 508\n",
       "cymbals              503\n",
       "cello                481\n",
       "violin               469\n",
       "voice                452\n",
       "ukulele              389\n",
       "banjo                375\n",
       "synthesizer          375\n",
       "guitar               347\n",
       "drums                336\n",
       "trombone             196\n",
       "mandolin             163\n",
       "clarinet             152\n",
       "trumpet               68\n",
       "Name: instrumento, dtype: int64"
      ]
     },
     "execution_count": 8,
     "metadata": {},
     "output_type": "execute_result"
    }
   ],
   "source": [
    "print('Dimensões do dataframe', df.shape)\n",
    "print('Total de instrumentos na base original:', len(df.instrumento.unique()))\n",
    "df.instrumento.value_counts()"
   ]
  },
  {
   "cell_type": "markdown",
   "metadata": {},
   "source": [
    "# Preprocessamento"
   ]
  },
  {
   "cell_type": "code",
   "execution_count": 9,
   "metadata": {},
   "outputs": [],
   "source": [
    "le = LabelEncoder()\n",
    "\n",
    "df['labels'] = le.fit_transform(df.instrumento)"
   ]
  },
  {
   "cell_type": "markdown",
   "metadata": {},
   "source": [
    "# Split"
   ]
  },
  {
   "cell_type": "code",
   "execution_count": 10,
   "metadata": {},
   "outputs": [],
   "source": [
    "X = df.drop(columns=['labels', 'instrumento','file_name'])\n",
    "y = df['labels']"
   ]
  },
  {
   "cell_type": "markdown",
   "metadata": {},
   "source": [
    "# TESTE 1: Balanceamento"
   ]
  },
  {
   "cell_type": "markdown",
   "metadata": {},
   "source": [
    "- 1° Opção: Balanceamento das classes com SMOTH"
   ]
  },
  {
   "cell_type": "code",
   "execution_count": 11,
   "metadata": {},
   "outputs": [],
   "source": [
    "X_train, X_test, y_train, y_test = train_test_split(X, y, test_size = 0.3, random_state = 42)"
   ]
  },
  {
   "cell_type": "code",
   "execution_count": null,
   "metadata": {},
   "outputs": [],
   "source": [
    "sm = SMOTE()\n",
    "X_train, y_train  = sm.fit_resample(X_train, y_train)"
   ]
  },
  {
   "cell_type": "code",
   "execution_count": null,
   "metadata": {},
   "outputs": [],
   "source": [
    "models = np.array([KNeighborsClassifier(),\n",
    "                   DecisionTreeClassifier(), \n",
    "                   RandomForestClassifier(), \n",
    "                   LGBMClassifier(),MLPClassifier()])"
   ]
  },
  {
   "cell_type": "code",
   "execution_count": null,
   "metadata": {},
   "outputs": [
    {
     "name": "stdout",
     "output_type": "stream",
     "text": [
      "Acuracia KNeighborsClassifier(): 12.0%\n",
      "Acuracia DecisionTreeClassifier(): 16.0%\n",
      "Acuracia RandomForestClassifier(): 31.0%\n",
      "Acuracia LGBMClassifier(): 33.0%\n",
      "Acuracia MLPClassifier(): 15.0%\n"
     ]
    }
   ],
   "source": [
    "for model in models:\n",
    "    model.fit(X_train, y_train)\n",
    "    predict = model.predict(X_test)\n",
    "    print(f'Acuracia {model}: {accuracy_score(y_test, predict).round(2) * 100}%')\n",
    "    "
   ]
  },
  {
   "cell_type": "markdown",
   "metadata": {},
   "source": [
    "- Class Weight"
   ]
  },
  {
   "cell_type": "code",
   "execution_count": null,
   "metadata": {},
   "outputs": [],
   "source": [
    "X_train, X_test, y_train, y_test = train_test_split(X, y, test_size = 0.3, random_state = 42)"
   ]
  },
  {
   "cell_type": "code",
   "execution_count": null,
   "metadata": {},
   "outputs": [
    {
     "data": {
      "text/plain": [
       "array([0.88552239, 1.1498062 , 0.81497253, 0.93876582, 2.74675926,\n",
       "       0.82402778, 1.22078189, 0.66364653, 1.10690299, 0.60417515,\n",
       "       2.53547009, 0.67883295, 0.66069042, 0.77454308, 1.15878906,\n",
       "       2.04586207, 5.70480769, 1.13659004, 0.88817365, 0.96003236])"
      ]
     },
     "execution_count": 55,
     "metadata": {},
     "output_type": "execute_result"
    }
   ],
   "source": [
    "#  Calculate weights using sklearn\n",
    "sklearn_weights = class_weight.compute_class_weight(\n",
    "    class_weight = 'balanced',\n",
    "    classes = np.unique(y_train),\n",
    "    y = y_train\n",
    ")\n",
    "\n",
    "sklearn_weights"
   ]
  },
  {
   "cell_type": "code",
   "execution_count": null,
   "metadata": {},
   "outputs": [
    {
     "name": "stdout",
     "output_type": "stream",
     "text": [
      "Acuracia KNeighborsClassifier(): 15.0%\n",
      "Acuracia DecisionTreeClassifier(class_weight='balanced'): 17.0%\n",
      "Acuracia RandomForestClassifier(class_weight='balanced', n_jobs=-1, random_state=0): 33.0%\n"
     ]
    },
    {
     "name": "stderr",
     "output_type": "stream",
     "text": [
      "/home/douglas/projetos/pessoal/detected_instruments/.venv/lib/python3.9/site-packages/sklearn/linear_model/_logistic.py:444: ConvergenceWarning: lbfgs failed to converge (status=1):\n",
      "STOP: TOTAL NO. of ITERATIONS REACHED LIMIT.\n",
      "\n",
      "Increase the number of iterations (max_iter) or scale the data as shown in:\n",
      "    https://scikit-learn.org/stable/modules/preprocessing.html\n",
      "Please also refer to the documentation for alternative solver options:\n",
      "    https://scikit-learn.org/stable/modules/linear_model.html#logistic-regression\n",
      "  n_iter_i = _check_optimize_result(\n"
     ]
    },
    {
     "name": "stdout",
     "output_type": "stream",
     "text": [
      "Acuracia LogisticRegression(class_weight='balanced', n_jobs=-1, random_state=0): 17.0%\n",
      "Acuracia LGBMClassifier(class_weight='balanced'): 34.0%\n",
      "Acuracia MLPClassifier(): 17.0%\n"
     ]
    }
   ],
   "source": [
    "models = np.array([\n",
    "    KNeighborsClassifier(),\n",
    "    DecisionTreeClassifier(class_weight= 'balanced'), \n",
    "    RandomForestClassifier(class_weight = 'balanced', random_state = 0, n_jobs = -1), \n",
    "    LogisticRegression(class_weight = 'balanced', random_state = 0, n_jobs = -1), \n",
    "    LGBMClassifier(class_weight= 'balanced'),\n",
    "    MLPClassifier()\n",
    "])\n",
    "\n",
    "\n",
    "for model in models:\n",
    "    model.fit(X_train, y_train)\n",
    "    predict = model.predict(X_test)\n",
    "    print(f'Acuracia {model}: {accuracy_score(y_test, predict).round(2) * 100}%')"
   ]
  },
  {
   "cell_type": "markdown",
   "metadata": {},
   "source": [
    "# TESTE 2: Clustering"
   ]
  },
  {
   "cell_type": "markdown",
   "metadata": {},
   "source": [
    "- Encontrar o numero ideal de cluster"
   ]
  },
  {
   "cell_type": "code",
   "execution_count": 18,
   "metadata": {},
   "outputs": [
    {
     "data": {
      "image/png": "[encoded data removed]",
      "text/plain": [
       "<Figure size 1440x576 with 2 Axes>"
      ]
     },
     "metadata": {},
     "output_type": "display_data"
    },
    {
     "data": {
      "text/plain": [
       "<AxesSubplot:title={'center':'Distortion Score Elbow for KMeans Clustering'}, xlabel='k', ylabel='distortion score'>"
      ]
     },
     "execution_count": 18,
     "metadata": {},
     "output_type": "execute_result"
    }
   ],
   "source": [
    "model = KMeans()\n",
    "plt.figure(figsize=( 20, 8 ))\n",
    "visualizer = KElbowVisualizer(model, k=(1, 20))\n",
    "\n",
    "visualizer.fit(df.drop(columns=['instrumento', 'file_name']))\n",
    "visualizer.show()"
   ]
  },
  {
   "cell_type": "markdown",
   "metadata": {},
   "source": [
    "- Treinando o K-means"
   ]
  },
  {
   "cell_type": "code",
   "execution_count": 21,
   "metadata": {},
   "outputs": [],
   "source": [
    "k_means = KMeans(n_clusters = 4, random_state = 0)\n",
    "labels = k_means.fit_predict(df.drop(columns=['instrumento', 'file_name']))\n",
    "\n",
    "df['clusters'] = labels"
   ]
  },
  {
   "cell_type": "markdown",
   "metadata": {},
   "source": [
    "- Plotando resultados"
   ]
  }
 ],
 "metadata": {
  "kernelspec": {
   "display_name": "Python 3.9.0 ('.venv': poetry)",
   "language": "python",
   "name": "python3"
  },
  "language_info": {
   "codemirror_mode": {
    "name": "ipython",
    "version": 3
   },
   "file_extension": ".py",
   "mimetype": "text/x-python",
   "name": "python",
   "nbconvert_exporter": "python",
   "pygments_lexer": "ipython3",
   "version": "3.9.0"
  },
  "orig_nbformat": 4,
  "vscode": {
   "interpreter": {
    "hash": "375573d77dacab1a606010b2ae5554b2906d1f27f5069f1891d624619a31c775"
   }
  }
 },
 "nbformat": 4,
 "nbformat_minor": 2
}
